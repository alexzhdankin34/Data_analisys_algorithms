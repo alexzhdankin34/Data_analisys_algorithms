{
 "cells": [
  {
   "cell_type": "code",
   "execution_count": 1,
   "metadata": {},
   "outputs": [],
   "source": [
    "import numpy as np\n",
    "import matplotlib.pyplot as plt"
   ]
  },
  {
   "cell_type": "code",
   "execution_count": 2,
   "metadata": {},
   "outputs": [],
   "source": [
    "X = np.array([[1, 1, 1, 1, 1, 1, 1, 1, 1, 1],\n",
    "              [1, 1, 2, 5, 3, 0, 5, 10, 1, 2]])"
   ]
  },
  {
   "cell_type": "code",
   "execution_count": 3,
   "metadata": {},
   "outputs": [],
   "source": [
    "y = [45, 55, 50, 55, 60, 35, 75, 80, 50, 60]"
   ]
  },
  {
   "cell_type": "code",
   "execution_count": 4,
   "metadata": {},
   "outputs": [],
   "source": [
    "def calc_mae(y, y_pred):\n",
    "    err = np.mean(np.abs(y - y_pred))\n",
    "    return err\n",
    "\n",
    "def calc_mse(y, y_pred):\n",
    "    err = np.mean((y - y_pred)**2) # <=> 1/n * np.sum((y_pred - y)**2)\n",
    "    return err"
   ]
  },
  {
   "cell_type": "markdown",
   "metadata": {},
   "source": [
    "### Задание №1"
   ]
  },
  {
   "cell_type": "code",
   "execution_count": 5,
   "metadata": {},
   "outputs": [
    {
     "name": "stdout",
     "output_type": "stream",
     "text": [
      "Number of objects = 10        \n",
      "Learning rate = 0.1        \n",
      "Initial weights = [1.  0.5] \n",
      "\n",
      "Iteration #0: W_new = [11.8 38.2], MSE = 3047.75\n",
      "Iteration #10: W_new = [12651.73553914 69617.0969639 ], MSE = 18310954068.05\n",
      "Iteration #20: W_new = [ 7732434.81888021 42641607.37852184], MSE = 9128819654907560.0\n",
      "Iteration #30: W_new = [1.06344502e+09 5.86454589e+09], MSE = 2.3279203642668532e+20\n",
      "Iteration #40: W_new = [3.00127077e+10 1.65510116e+11], MSE = 2.5451335298159553e+23\n",
      "Iteration #50: W_new = [1.55345341e+11 8.56677968e+11], MSE = 9.572295620500168e+24\n",
      "Iteration #60: W_new = [1.27742291e+11 7.04456313e+11], MSE = 9.351480126476044e+24\n",
      "Iteration #70: W_new = [1.38141953e+10 7.61806995e+10], MSE = 1.6408589528284036e+23\n",
      "Iteration #80: W_new = [1.51674189e+08 8.36432543e+08], MSE = 3.125533537874497e+19\n",
      "Iteration #90: W_new = [116395.49983176 641638.79865191], MSE = 31317286806394.77\n",
      "Iteration #100: W_new = [48.41962984 22.99884537], MSE = 53518.86\n",
      "Iteration #110: W_new = [44.97713543  3.82798768], MSE = 43.97\n",
      "Iteration #120: W_new = [44.99893562  3.82402642], MSE = 43.97\n",
      "Iteration #130: W_new = [45.01386568  3.82131908], MSE = 43.97\n",
      "Iteration #140: W_new = [45.0243608   3.81941596], MSE = 43.97\n",
      "Iteration #150: W_new = [45.03191529  3.81804607], MSE = 43.97\n",
      "Iteration #160: W_new = [45.03747118  3.81703859], MSE = 43.97\n",
      "Iteration #170: W_new = [45.04163762  3.81628307], MSE = 43.97\n",
      "Iteration #180: W_new = [45.04481782  3.81570639], MSE = 43.97\n",
      "Iteration #190: W_new = [45.04728447  3.8152591 ], MSE = 43.97\n",
      "Iteration #200: W_new = [45.04922573  3.81490708], MSE = 43.97\n",
      "Iteration #210: W_new = [45.05077382  3.81462636], MSE = 43.97\n",
      "Iteration #220: W_new = [45.05202327  3.81439979], MSE = 43.97\n",
      "Iteration #230: W_new = [45.05304272  3.81421493], MSE = 43.97\n",
      "Iteration #240: W_new = [45.05388278  3.8140626 ], MSE = 43.97\n"
     ]
    }
   ],
   "source": [
    "n = X.shape[1]\n",
    "alpha = 1e-1 \n",
    "W = np.array([1, 0.5])\n",
    "print(f'Number of objects = {n} \\\n",
    "       \\nLearning rate = {alpha} \\\n",
    "       \\nInitial weights = {W} \\n')\n",
    "\n",
    "for i in range(250):\n",
    "    y_pred = np.dot(W, X)\n",
    "    err = calc_mse(y, y_pred)\n",
    "    for k in range(W.shape[0]):\n",
    "        W[k] -= alpha * (1/n * 2 * np.sum(X[k] * (y_pred - y)))\n",
    "    if i % 10 == 0:\n",
    "        alpha /= 1.1\n",
    "        print(f'Iteration #{i}: W_new = {W}, MSE = {round(err,2)}')"
   ]
  },
  {
   "cell_type": "markdown",
   "metadata": {},
   "source": [
    "### Задание№2"
   ]
  },
  {
   "cell_type": "code",
   "execution_count": 6,
   "metadata": {},
   "outputs": [
    {
     "name": "stdout",
     "output_type": "stream",
     "text": [
      "Number of objects = 10        \n",
      "Learning rate = 0.01        \n",
      "Initial weights = [1.  0.5] \n",
      "\n",
      "Iteration #0: W_new = [2.08 4.27], MSE = 3047.75\n",
      "Iteration #10: W_new = [ 7.0011236 10.6169007], MSE = 738.65\n",
      "Iteration #20: W_new = [10.3486292  10.10603105], MSE = 622.03\n",
      "Iteration #30: W_new = [13.38789582  9.55618391], MSE = 525.24\n",
      "Iteration #40: W_new = [16.16088505  9.05336203], MSE = 444.66\n",
      "Iteration #50: W_new = [18.69110735  8.59454545], MSE = 377.58\n",
      "Iteration #60: W_new = [20.99981865  8.17589626], MSE = 321.72\n",
      "Iteration #70: W_new = [23.10641138  7.79389815], MSE = 275.22\n",
      "Iteration #80: W_new = [25.02858024  7.44534246], MSE = 236.5\n",
      "Iteration #90: W_new = [26.78247081  7.12730145], MSE = 204.27\n",
      "Iteration #100: W_new = [28.38281518  6.83710367], MSE = 177.43\n",
      "Iteration #110: W_new = [29.84305573  6.57231156], MSE = 155.08\n",
      "Iteration #120: W_new = [31.17545797  6.33070096], MSE = 136.48\n",
      "Iteration #130: W_new = [32.39121367  6.11024241], MSE = 120.99\n",
      "Iteration #140: W_new = [33.50053475  5.90908413], MSE = 108.09\n",
      "Iteration #150: W_new = [34.51273915  5.72553647], MSE = 97.36\n",
      "Iteration #160: W_new = [35.43632906  5.55805768], MSE = 88.42\n",
      "Iteration #170: W_new = [36.27906231  5.405241  ], MSE = 80.98\n",
      "Iteration #180: W_new = [37.0480176   5.26580281], MSE = 74.78\n",
      "Iteration #190: W_new = [37.74965389  5.13857189], MSE = 69.62\n",
      "Iteration #200: W_new = [38.38986469  5.02247953], MSE = 65.33\n",
      "Iteration #210: W_new = [38.97402756  4.9165506 ], MSE = 61.75\n",
      "Iteration #220: W_new = [39.50704928  4.81989533], MSE = 58.77\n",
      "Iteration #230: W_new = [39.99340705  4.73170185], MSE = 56.29\n",
      "Iteration #240: W_new = [40.43718613  4.65122936], MSE = 54.23\n",
      "Iteration #250: W_new = [40.84211409  4.57780191], MSE = 52.51\n",
      "Iteration #260: W_new = [41.21159221  4.51080275], MSE = 51.08\n",
      "Iteration #270: W_new = [41.54872398  4.4496691 ], MSE = 49.89\n",
      "Iteration #280: W_new = [41.8563412   4.39388747], MSE = 48.9\n",
      "Iteration #290: W_new = [42.13702774  4.34298929], MSE = 48.07\n",
      "Iteration #300: W_new = [42.39314129  4.29654705], MSE = 47.39\n",
      "Iteration #310: W_new = [42.6268331   4.25417064], MSE = 46.81\n",
      "Iteration #320: W_new = [42.84006612  4.21550412], MSE = 46.34\n",
      "Iteration #330: W_new = [43.03463143  4.1802227 ], MSE = 45.94\n",
      "Iteration #340: W_new = [43.21216332  4.14803003], MSE = 45.61\n",
      "Iteration #350: W_new = [43.37415299  4.1186557 ], MSE = 45.34\n",
      "Iteration #360: W_new = [43.5219611   4.09185298], MSE = 45.11\n",
      "Iteration #370: W_new = [43.6568292   4.06739673], MSE = 44.92\n",
      "Iteration #380: W_new = [43.77989013  4.04508153], MSE = 44.76\n",
      "Iteration #390: W_new = [43.89217756  4.02471993], MSE = 44.63\n",
      "Iteration #400: W_new = [43.99463466  4.00614091], MSE = 44.52\n",
      "Iteration #410: W_new = [44.08812206  3.98918842], MSE = 44.42\n",
      "Iteration #420: W_new = [44.173425    3.97372004], MSE = 44.35\n",
      "Iteration #430: W_new = [44.25126001  3.95960587], MSE = 44.28\n",
      "Iteration #440: W_new = [44.32228086  3.94672733], MSE = 44.23\n",
      "Iteration #450: W_new = [44.38708413  3.93497626], MSE = 44.19\n",
      "Iteration #460: W_new = [44.44621412  3.92425394], MSE = 44.15\n",
      "Iteration #470: W_new = [44.50016751  3.91447033], MSE = 44.12\n",
      "Iteration #480: W_new = [44.5493975   3.90554323], MSE = 44.1\n",
      "Iteration #490: W_new = [44.5943176   3.89739766], MSE = 44.07\n",
      "Iteration #500: W_new = [44.63530512  3.8899652 ], MSE = 44.06\n",
      "Iteration #510: W_new = [44.67270435  3.88318343], MSE = 44.04\n",
      "Iteration #520: W_new = [44.70682942  3.87699538], MSE = 44.03\n",
      "Iteration #530: W_new = [44.73796697  3.87134906], MSE = 44.02\n",
      "Iteration #540: W_new = [44.76637856  3.86619706], MSE = 44.01\n",
      "Iteration #550: W_new = [44.79230282  3.86149609], MSE = 44.0\n",
      "Iteration #560: W_new = [44.81595752  3.85720668], MSE = 44.0\n",
      "Iteration #570: W_new = [44.83754134  3.85329279], MSE = 43.99\n",
      "Iteration #580: W_new = [44.85723558  3.84972154], MSE = 43.99\n",
      "Iteration #590: W_new = [44.87520567  3.84646294], MSE = 43.99\n",
      "Iteration #600: W_new = [44.89160255  3.84348962], MSE = 43.98\n",
      "Iteration #610: W_new = [44.90656394  3.8407766 ], MSE = 43.98\n",
      "Iteration #620: W_new = [44.92021553  3.83830109], MSE = 43.98\n",
      "Iteration #630: W_new = [44.93267197  3.83604231], MSE = 43.98\n",
      "Iteration #640: W_new = [44.94403791  3.83398127], MSE = 43.98\n",
      "Iteration #650: W_new = [44.95440879  3.83210067], MSE = 43.97\n",
      "Iteration #660: W_new = [44.96387175  3.83038471], MSE = 43.97\n",
      "Iteration #670: W_new = [44.97250627  3.82881898], MSE = 43.97\n",
      "Iteration #680: W_new = [44.98038486  3.82739031], MSE = 43.97\n",
      "Iteration #690: W_new = [44.98757372  3.82608673], MSE = 43.97\n",
      "Iteration #700: W_new = [44.99413322  3.82489726], MSE = 43.97\n",
      "Iteration #710: W_new = [45.00011846  3.82381193], MSE = 43.97\n",
      "Iteration #720: W_new = [45.00557972  3.82282162], MSE = 43.97\n",
      "Iteration #730: W_new = [45.01056286  3.821918  ], MSE = 43.97\n",
      "Iteration #740: W_new = [45.01510975  3.82109349], MSE = 43.97\n",
      "Iteration #750: W_new = [45.01925858  3.82034116], MSE = 43.97\n",
      "Iteration #760: W_new = [45.0230442  3.8196547], MSE = 43.97\n",
      "Iteration #770: W_new = [45.0264984   3.81902834], MSE = 43.97\n",
      "Iteration #780: W_new = [45.0296502   3.81845681], MSE = 43.97\n",
      "Iteration #790: W_new = [45.03252607  3.81793531], MSE = 43.97\n",
      "Iteration #800: W_new = [45.03515017  3.81745947], MSE = 43.97\n",
      "Iteration #810: W_new = [45.03754454  3.81702529], MSE = 43.97\n",
      "Iteration #820: W_new = [45.03972929  3.81662912], MSE = 43.97\n",
      "Iteration #830: W_new = [45.04172277  3.81626763], MSE = 43.97\n",
      "Iteration #840: W_new = [45.04354174  3.81593779], MSE = 43.97\n",
      "Iteration #850: W_new = [45.04520146  3.81563682], MSE = 43.97\n",
      "Iteration #860: W_new = [45.04671588  3.81536221], MSE = 43.97\n",
      "Iteration #870: W_new = [45.04809772  3.81511163], MSE = 43.97\n",
      "Iteration #880: W_new = [45.04935858  3.81488299], MSE = 43.97\n",
      "Iteration #890: W_new = [45.05050906  3.81467437], MSE = 43.97\n",
      "Iteration #900: W_new = [45.05155882  3.81448401], MSE = 43.97\n",
      "Iteration #910: W_new = [45.05251668  3.81431032], MSE = 43.97\n",
      "Iteration #920: W_new = [45.05339068  3.81415184], MSE = 43.97\n",
      "Iteration #930: W_new = [45.05418816  3.81400722], MSE = 43.97\n",
      "Iteration #940: W_new = [45.05491583  3.81387527], MSE = 43.97\n",
      "Iteration #950: W_new = [45.05557979  3.81375487], MSE = 43.97\n",
      "Iteration #960: W_new = [45.05618563  3.81364501], MSE = 43.97\n",
      "Iteration #970: W_new = [45.05673843  3.81354477], MSE = 43.97\n",
      "Iteration #980: W_new = [45.05724283  3.81345331], MSE = 43.97\n",
      "Iteration #990: W_new = [45.05770308  3.81336985], MSE = 43.97\n"
     ]
    }
   ],
   "source": [
    "n = X.shape[1]\n",
    "alpha = 1e-2\n",
    "W = np.array([1, 0.5])\n",
    "print(f'Number of objects = {n} \\\n",
    "       \\nLearning rate = {alpha} \\\n",
    "       \\nInitial weights = {W} \\n')\n",
    "\n",
    "for i in range(1000):\n",
    "    y_pred = np.dot(W, X)\n",
    "    err = calc_mse(y, y_pred)\n",
    "#     for k in range(W.shape[0]):\n",
    "#         W[k] -= alpha * (1/n * 2 * np.sum(X[k] * (y_pred - y)))\n",
    "    W -= alpha * (1/n * 2 * np.dot(X, (y_pred - y)))\n",
    "    W_pred = W\n",
    "    if i % 10 == 0:\n",
    "        print(f'Iteration #{i}: W_new = {W}, MSE = {round(err,2)}')"
   ]
  },
  {
   "cell_type": "markdown",
   "metadata": {},
   "source": [
    "### Задание №3"
   ]
  },
  {
   "cell_type": "code",
   "execution_count": 9,
   "metadata": {},
   "outputs": [
    {
     "name": "stdout",
     "output_type": "stream",
     "text": [
      "Number of objects = 10        \n",
      "Learning rate = 0.01        \n",
      "Initial weights = [1.  0.5] \n",
      "\n",
      "Iteration #999: W_new = [45.02904272  3.81856696], MSE = 43.97\n"
     ]
    }
   ],
   "source": [
    "n = X.shape[1]\n",
    "alpha = 1e-2\n",
    "W = np.array([1, 0.5])\n",
    "print(f'Number of objects = {n} \\\n",
    "       \\nLearning rate = {alpha} \\\n",
    "       \\nInitial weights = {W} \\n')\n",
    "err_log = [1000000, 100000]\n",
    "target_error=abs(err_log[-1] - err_log[-2])\n",
    "while target_error > 0.00001:\n",
    "    y_pred = np.dot(W, X)\n",
    "    err = calc_mse(y, y_pred)\n",
    "    err_log.append(err)\n",
    "    W -= alpha * (1/n * 2 * np.dot(X, (y_pred - y)))\n",
    "    W_pred = W\n",
    "    target_error=abs(err_log[-1] - err_log[-2])\n",
    "print(f'Iteration #{i}: W_new = {W}, MSE = {round(err,2)}')\n",
    "  "
   ]
  },
  {
   "cell_type": "code",
   "execution_count": null,
   "metadata": {},
   "outputs": [],
   "source": []
  }
 ],
 "metadata": {
  "kernelspec": {
   "display_name": "Python 3",
   "language": "python",
   "name": "python3"
  },
  "language_info": {
   "codemirror_mode": {
    "name": "ipython",
    "version": 3
   },
   "file_extension": ".py",
   "mimetype": "text/x-python",
   "name": "python",
   "nbconvert_exporter": "python",
   "pygments_lexer": "ipython3",
   "version": "3.7.4"
  }
 },
 "nbformat": 4,
 "nbformat_minor": 2
}
