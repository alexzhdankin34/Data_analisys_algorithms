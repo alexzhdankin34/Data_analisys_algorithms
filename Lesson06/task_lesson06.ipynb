{
 "cells": [
  {
   "cell_type": "code",
   "execution_count": 23,
   "metadata": {},
   "outputs": [],
   "source": [
    "from sklearn.tree import DecisionTreeRegressor\n",
    "\n",
    "from sklearn import model_selection\n",
    "import numpy as np"
   ]
  },
  {
   "cell_type": "code",
   "execution_count": 24,
   "metadata": {},
   "outputs": [],
   "source": [
    "from sklearn.datasets import load_diabetes"
   ]
  },
  {
   "cell_type": "markdown",
   "metadata": {},
   "source": [
    "Создадим собственный алгоритм реализации решающего дерева"
   ]
  },
  {
   "cell_type": "code",
   "execution_count": 25,
   "metadata": {},
   "outputs": [],
   "source": [
    "# Реализуем класс узла\n",
    "\n",
    "class Node:\n",
    "    \n",
    "    def __init__(self, index, t, true_branch, false_branch):\n",
    "        self.index = index  # индекс признака, по которому ведется сравнение с порогом в этом узле\n",
    "        self.t = t  # значение порога\n",
    "        self.true_branch = true_branch  # поддерево, удовлетворяющее условию в узле\n",
    "        self.false_branch = false_branch  # поддерево, не удовлетворяющее условию в узле"
   ]
  },
  {
   "cell_type": "code",
   "execution_count": 26,
   "metadata": {},
   "outputs": [],
   "source": [
    "# И класс терминального узла (листа)\n",
    "\n",
    "class Leaf:\n",
    "    \n",
    "    def __init__(self, data, values):\n",
    "        self.data = data\n",
    "        self.values = values\n",
    "        \n",
    "        self.prediction = self.predict()\n",
    "        \n",
    "    def predict(self):\n",
    "        # подсчет среднего в листе\n",
    "        prediction = np.mean(self.values)\n",
    "        return prediction"
   ]
  },
  {
   "cell_type": "code",
   "execution_count": 27,
   "metadata": {},
   "outputs": [],
   "source": [
    "class RegressionTree:\n",
    "\n",
    "    def __init__(self, max_depth=10000, max_leaves=10000, min_leaf =1):\n",
    "        self.max_depth = max_depth\n",
    "        self.nodes = []\n",
    "        self.leaves = []\n",
    "        self.depth = 0\n",
    "        self.max_leaves = max_leaves\n",
    "        self.min_leaf = min_leaf\n",
    "        self.tree = None\n",
    "\n",
    "    def dispersion (self, values):  # Расчет значения дисперсии в узле\n",
    "        dispersion = np.std(values)\n",
    "        return dispersion\n",
    "\n",
    "   \n",
    "    def quality(self, left_values, right_values, current_dispersion):  # Расчет качества \n",
    "\n",
    "        # доля выбоки, ушедшая в левое поддерево\n",
    "        p = float(left_values.shape[0]) / (left_values.shape[0] + right_values.shape[0])\n",
    "\n",
    "        return current_dispersion - p * self.dispersion(left_values) - (1 - p) * self.dispersion(right_values)\n",
    "\n",
    "  \n",
    "    def split(self, data, values, index, t):  # Разбиение датасета в узле\n",
    "\n",
    "        left = np.where(data[:, index] <= t)\n",
    "        right = np.where(data[:, index] > t)\n",
    "\n",
    "        true_data = data[left]\n",
    "        false_data = data[right]\n",
    "        true_values = values[left]\n",
    "        false_values = values[right]\n",
    "\n",
    "        return true_data, false_data, true_values, false_values\n",
    "\n",
    "    def find_best_split(self, data, values):  # Нахождение наилучшего разбиения\n",
    "\n",
    "\n",
    "        current_dispersion = self.dispersion(values)\n",
    "        best_quality = 0\n",
    "        best_t = None\n",
    "        best_index = None\n",
    "\n",
    "        n_features = data.shape[1]\n",
    "\n",
    "        for index in range(n_features):\n",
    "            t_values = [row[index] for row in data]\n",
    "\n",
    "            for t in t_values:\n",
    "                true_data, false_data, true_values, false_values = self.split(data, values, index, t)\n",
    "                #  пропускаем разбиения, в которых в узле остается менее 5 объектов\n",
    "                if len(true_data) < self.min_leaf or len(false_data) < self.min_leaf:\n",
    "                    continue\n",
    "\n",
    "                current_quality = self.quality(true_values, false_values, current_dispersion)\n",
    "\n",
    "                #  выбираем порог, на котором получается максимальный прирост качества\n",
    "                if current_quality > best_quality:\n",
    "                    best_quality, best_t, best_index = current_quality, t, index\n",
    "\n",
    "        return best_quality, best_t, best_index\n",
    "\n",
    "    def build_tree(self, data, values):\n",
    "\n",
    "        quality, t, index = self.find_best_split(data, values)\n",
    "        \n",
    "\n",
    "        # Базовый случай (3) - прекращаем рекурсию, когда достигнута максимальное число листьев\n",
    "        if len(self.leaves) >= self.max_leaves - 1:\n",
    "            self.leaves.append(Leaf(data, values))\n",
    "            return Leaf(data, values)\n",
    "\n",
    "        # Базовый случай (2) - прекращаем рекурсию, когда достигнута максимальная глубина дерева\n",
    "        if self.depth >= self.max_depth:\n",
    "            self.leaves.append(Leaf(data, values))\n",
    "            return Leaf(data, values)\n",
    "\n",
    "        self.depth += 1\n",
    "\n",
    "        #  Базовый случай - прекращаем рекурсию, когда нет прироста в качества\n",
    "        if quality == 0:\n",
    "            self.leaves.append(Leaf(data, values))\n",
    "            return Leaf(data, values)\n",
    "\n",
    "        true_data, false_data, true_values, false_values = self.split(data, values, index, t)\n",
    "\n",
    "        # Рекурсивно строим два поддерева\n",
    "        true_branch = self.build_tree(true_data, true_values)\n",
    "        false_branch = self.build_tree(false_data, false_values)\n",
    "\n",
    "        # Возвращаем класс узла со всеми поддеревьями, то есть целого дерева\n",
    "        self.nodes.append(Node(index, t, true_branch, false_branch))\n",
    "        return Node(index, t, true_branch, false_branch)\n",
    "\n",
    "    def classify_object(self, obj, node):\n",
    "\n",
    "        #  Останавливаем рекурсию, если достигли листа\n",
    "        if isinstance(node, Leaf):\n",
    "            answer = node.prediction\n",
    "            return answer\n",
    "\n",
    "        if obj[node.index] <= node.t:\n",
    "            return self.classify_object(obj, node.true_branch)\n",
    "        else:\n",
    "            return self.classify_object(obj, node.false_branch)\n",
    "\n",
    "    def fit(self, data, values):\n",
    "        self.tree = self.build_tree(data, values)\n",
    "        return self\n",
    "\n",
    "    def predict(self, data):\n",
    "\n",
    "        val = []\n",
    "        for obj in data:\n",
    "            prediction = self.classify_object(obj, self.tree)\n",
    "            val.append(prediction)\n",
    "\n",
    "        return val\n"
   ]
  },
  {
   "cell_type": "code",
   "execution_count": 28,
   "metadata": {},
   "outputs": [],
   "source": [
    "X, y = load_diabetes(return_X_y=True)"
   ]
  },
  {
   "cell_type": "code",
   "execution_count": 29,
   "metadata": {},
   "outputs": [],
   "source": [
    "X_train, X_test, y_train, y_test = model_selection.train_test_split(X, y, test_size=0.25)"
   ]
  },
  {
   "cell_type": "markdown",
   "metadata": {},
   "source": [
    "Реализуем градиентный бустинг на решающих деревьев. По выбору можно задать, на какой основе строить бустинг - либо на стандартном дереве sklearn, либо на основе собственного дерева. По умолчанию - sklearn"
   ]
  },
  {
   "cell_type": "code",
   "execution_count": 30,
   "metadata": {},
   "outputs": [],
   "source": [
    "class GradientBoosting:\n",
    "    \n",
    "    def __init__(self, n_trees, coefs,\n",
    "                 max_depth=100,\n",
    "                 max_leaf_nodes=200,\n",
    "                 min_leaf=1,\n",
    "                 eta = 1,\n",
    "                 algorythm = 'sklearn'):\n",
    "        self.n_trees = n_trees #число деревьев в ансабле\n",
    "        self.max_depth = max_depth #ограничение максимальной глубины деревьев в ансабле\n",
    "        self.max_leaf_nodes = max_leaf_nodes #ограничение максимального числа листьев в деревьях\n",
    "        self.min_leaf = min_leaf #ограничние минимльного количества объектов в листе\n",
    "        self.eta =eta # шаг градиентного бустинга\n",
    "        self.algorythm = algorythm #алгоритм реализации решающего дерева\n",
    "        self.trees_list = [] #список деревьев в ансабле\n",
    "        self.coefs = coefs # список коэфицинтов \n",
    "        self.trees_predicts=[]\n",
    "        self.bootstrap = []\n",
    "        self.sample_indexes = None\n",
    "\n",
    "    \n",
    "    \n",
    "    def predict(self, X):\n",
    "        # Реализуемый алгоритм градиентного бустинга будет инициализироваться нулевыми значениями,\n",
    "        # поэтому все деревья из списка trees_list уже являются дополнительными и при предсказании прибавляются с шагом eta\n",
    "        return np.array([sum([self.eta* coef * alg.predict([x])[0] for alg, coef in zip(self.trees_list, self.coefs)]) for x in X])\n",
    "    \n",
    "    def mean_squared_error(self, y_real, prediction):\n",
    "        return (sum((y_real - prediction)**2)) / len(y_real)\n",
    "\n",
    "    def bias(self, y, z):\n",
    "        return (y - z)\n",
    "    \n",
    "    def fit(self, X_train, X_test, y_train, y_test):\n",
    "    \n",
    "        # Деревья будем записывать в список\n",
    "        self.trees_list = []\n",
    "    \n",
    "        # Будем записывать ошибки на обучающей и тестовой выборке на каждой итерации в список\n",
    "        train_errors = []\n",
    "        test_errors = []\n",
    "\n",
    "        for i in range(self.n_trees):\n",
    "            if self.algorythm =='sklearn':\n",
    "                tree = DecisionTreeRegressor(max_depth=self.max_depth,  random_state=42)\n",
    "            elif self.algorythm =='my_tree':\n",
    "                tree = RegressionTree(max_depth=self.max_depth)\n",
    "            else:\n",
    "                print (\"Выберите либо алгоритм sklearn, либо my_tree\")\n",
    "                break\n",
    "                \n",
    "\n",
    "            # инициализируем бустинг начальным алгоритмом, возвращающим ноль, \n",
    "            # поэтому первый алгоритм просто обучаем на выборке и добавляем в список\n",
    "            if len(self.trees_list) == 0:\n",
    "                # обучаем первое дерево на обучающей выборке\n",
    "                tree.fit(X_train, y_train)\n",
    "\n",
    "                train_errors.append(self.mean_squared_error(y_train, self.predict(X_train)))\n",
    "                test_errors.append(self.mean_squared_error(y_test, self.predict(X_test)))\n",
    "            else:\n",
    "                # Получим ответы на текущей композиции\n",
    "                target = self.predict(X_train)\n",
    "\n",
    "                # алгоритмы начиная со второго обучаем на сдвиг\n",
    "                tree.fit(X_train, self.bias(y_train, target))\n",
    "\n",
    "                train_errors.append(self.mean_squared_error(y_train, self.predict(X_train)))\n",
    "                test_errors.append(self.mean_squared_error(y_test, self.predict(X_test)))\n",
    "\n",
    "            self.trees_list.append(tree)\n",
    "\n",
    "        return self.trees_list, train_errors, test_errors\n"
   ]
  },
  {
   "cell_type": "code",
   "execution_count": 31,
   "metadata": {},
   "outputs": [],
   "source": [
    "# Число деревьев в ансамбле\n",
    "n_trees = 10\n",
    "\n",
    "# для простоты примем коэффициенты равными 1\n",
    "coefs = [1] * n_trees\n",
    "\n",
    "# Максимальная глубина деревьев\n",
    "max_depth = 3\n",
    "\n",
    "# Шаг\n",
    "eta = 1\n",
    "gb=GradientBoosting(n_trees=n_trees, max_depth=max_depth,eta=eta, coefs=coefs)\n",
    "trees, train_errors, test_errors= gb.fit(X_train, X_test, y_train, y_test) \n"
   ]
  },
  {
   "cell_type": "code",
   "execution_count": 32,
   "metadata": {},
   "outputs": [],
   "source": [
    "def evaluate_alg(X_train, X_test, y_train, y_test, alg):\n",
    "    train_prediction = alg.predict(X_train)\n",
    "\n",
    "    print(f'Ошибка алгоритма из {alg.n_trees} деревьев глубиной {alg.max_depth} \\\n",
    "    с шагом {alg.eta} на тренировочной выборке: {alg.mean_squared_error(y_train, train_prediction)}')\n",
    "\n",
    "    test_prediction = alg.predict(X_test)\n",
    "\n",
    "    print(f'Ошибка алгоритма из {alg.n_trees} деревьев глубиной {alg.max_depth} \\\n",
    "    с шагом {alg.eta} на тестовой выборке: {alg.mean_squared_error(y_test, test_prediction)}')"
   ]
  },
  {
   "cell_type": "code",
   "execution_count": 33,
   "metadata": {},
   "outputs": [
    {
     "name": "stdout",
     "output_type": "stream",
     "text": [
      "Ошибка алгоритма из 10 деревьев глубиной 3     с шагом 1 на тренировочной выборке: 1108.02187541606\n",
      "Ошибка алгоритма из 10 деревьев глубиной 3     с шагом 1 на тестовой выборке: 4453.139366017513\n"
     ]
    }
   ],
   "source": [
    "evaluate_alg(X_train, X_test, y_train, y_test, gb)"
   ]
  },
  {
   "cell_type": "markdown",
   "metadata": {},
   "source": [
    "Построим графики зависимости ошибки на обучающей и тестовой выборках от числа итераций."
   ]
  },
  {
   "cell_type": "code",
   "execution_count": 34,
   "metadata": {},
   "outputs": [],
   "source": [
    "import matplotlib.pyplot as plt\n",
    "from pylab import rcParams\n",
    "\n",
    "rcParams[\"figure.figsize\"] = 15, 9"
   ]
  },
  {
   "cell_type": "code",
   "execution_count": 35,
   "metadata": {},
   "outputs": [],
   "source": [
    "def get_error_plot(n_trees, train_err, test_err):\n",
    "    plt.xlabel('Iteration number')\n",
    "    plt.ylabel('MSE')\n",
    "    plt.xlim(0, n_trees)\n",
    "    plt.plot(list(range(n_trees)), train_err, label='train error')\n",
    "    plt.plot(list(range(n_trees)), test_err, label='test error')\n",
    "    plt.legend(loc='upper right')\n",
    "    plt.show()"
   ]
  },
  {
   "cell_type": "code",
   "execution_count": 36,
   "metadata": {},
   "outputs": [
    {
     "data": {
      "image/png": "[encoded data removed]",
      "text/plain": [
       "<Figure size 1080x648 with 1 Axes>"
      ]
     },
     "metadata": {
      "needs_background": "light"
     },
     "output_type": "display_data"
    }
   ],
   "source": [
    "get_error_plot(n_trees, train_errors, test_errors)"
   ]
  },
  {
   "cell_type": "markdown",
   "metadata": {},
   "source": [
    "**ДЗ-1**\n",
    "Для реализованной в методичке модели градиентного бустинга построить графики зависимости ошибки от количества деревьев в ансамбле и от максимальной глубины деревьев. Сделать выводы о зависимости ошибки от этих параметров."
   ]
  },
  {
   "cell_type": "markdown",
   "metadata": {},
   "source": [
    "Будем увеличивать число деревьев, изучая, как изменяется ошибка"
   ]
  },
  {
   "cell_type": "code",
   "execution_count": 37,
   "metadata": {},
   "outputs": [],
   "source": [
    "eta=1\n",
    "max_depth=3\n",
    "\n",
    "trees_number = [10, 50, 70, 100, 150]"
   ]
  },
  {
   "cell_type": "code",
   "execution_count": 38,
   "metadata": {},
   "outputs": [],
   "source": [
    "errors_train = []\n",
    "errors_test = []\n",
    "for n_trees in trees_number:\n",
    "    coefs = [1] * n_trees\n",
    "    alg=GradientBoosting(n_trees=n_trees, max_depth=max_depth,eta=eta, coefs=coefs)\n",
    "    trees, train_errors, test_errors= alg.fit(X_train, X_test, y_train, y_test) \n",
    "    train_prediction = alg.predict(X_train)\n",
    "    test_prediction = alg.predict(X_test)\n",
    "    errors_train.append(alg.mean_squared_error(y_train, train_prediction))\n",
    "    errors_test.append(alg.mean_squared_error(y_test, test_prediction))\n",
    "    \n",
    "    \n",
    "    \n",
    "    "
   ]
  },
  {
   "cell_type": "code",
   "execution_count": 39,
   "metadata": {},
   "outputs": [
    {
     "data": {
      "image/png": "[encoded data removed]",
      "text/plain": [
       "<Figure size 1080x648 with 1 Axes>"
      ]
     },
     "metadata": {
      "needs_background": "light"
     },
     "output_type": "display_data"
    }
   ],
   "source": [
    "\n",
    "from pylab import rcParams\n",
    "rcParams[\"figure.figsize\"] = 15, 9\n",
    "plt.xlabel('number of trees')\n",
    "plt.ylabel('MSE')\n",
    "plt.xlim(0, n_trees)\n",
    "plt.plot(trees_number, errors_train, label='train error')\n",
    "plt.plot(trees_number, errors_test, label='test error')\n",
    "plt.legend(loc='upper right')\n",
    "plt.show()"
   ]
  },
  {
   "cell_type": "markdown",
   "metadata": {},
   "source": [
    "Вывод: при увеличении количества деревьев примерно до 50, ошибка на тренировочной выборке резко снижается, а на тестовой также резко возрастает, имеет место переобучение. Далее величины ошибк практически не изменяются"
   ]
  },
  {
   "cell_type": "markdown",
   "metadata": {},
   "source": [
    "Изучим, как влияет изменение глубины деревьев на ошибку"
   ]
  },
  {
   "cell_type": "code",
   "execution_count": 11,
   "metadata": {},
   "outputs": [],
   "source": [
    "depth = [1,2,3,4,5,6,7,10,15,20,30,50]\n",
    "n_trees = 10\n",
    "eta=1"
   ]
  },
  {
   "cell_type": "code",
   "execution_count": 12,
   "metadata": {},
   "outputs": [],
   "source": [
    "errors_train_sklearn = []\n",
    "errors_test_sklearn = []\n",
    "for max_depth in depth:\n",
    "    coefs = [1] * n_trees\n",
    "    alg_sklearn=GradientBoosting(n_trees=n_trees, max_depth=max_depth,eta=eta, coefs=coefs)\n",
    "    trees, train_errors, test_errors= alg_sklearn.fit(X_train, X_test, y_train, y_test) \n",
    "    train_prediction = alg_sklearn.predict(X_train)\n",
    "    test_prediction = alg_sklearn.predict(X_test)\n",
    "    errors_train_sklearn.append(alg_sklearn.mean_squared_error(y_train, train_prediction))\n",
    "    errors_test_sklearn.append(alg_sklearn.mean_squared_error(y_test, test_prediction))"
   ]
  },
  {
   "cell_type": "markdown",
   "metadata": {},
   "source": [
    "3*. Реализовать алгоритм градиетного бустинга, основанный на реализации решающего дерева из ДЗ4 / методички к уроку 4. Сделать выводы о качестве алгоритма по сравнению с реализацией из п.1."
   ]
  },
  {
   "cell_type": "code",
   "execution_count": 13,
   "metadata": {},
   "outputs": [],
   "source": [
    "depth = [1,2,3,4,5,6,7,10,15,20,30,50]\n",
    "n_trees = 10\n",
    "eta=1"
   ]
  },
  {
   "cell_type": "code",
   "execution_count": 14,
   "metadata": {},
   "outputs": [],
   "source": [
    "errors_train_my_tree = []\n",
    "errors_test_my_tree = []\n",
    "for max_depth in depth:\n",
    "    coefs = [1] * n_trees\n",
    "    alg_my_tree=GradientBoosting(n_trees=n_trees, max_depth=max_depth, algorythm = 'my_tree', eta=eta, coefs=coefs)\n",
    "    trees, train_errors, test_errors= alg_my_tree.fit(X_train, X_test, y_train, y_test) \n",
    "    train_prediction = alg_my_tree.predict(X_train)\n",
    "    test_prediction = alg_my_tree.predict(X_test)\n",
    "    errors_train_my_tree.append(alg_my_tree.mean_squared_error(y_train, train_prediction))\n",
    "    errors_test_my_tree.append(alg_my_tree.mean_squared_error(y_test, test_prediction))\n",
    "    "
   ]
  },
  {
   "cell_type": "code",
   "execution_count": 22,
   "metadata": {},
   "outputs": [
    {
     "data": {
      "image/png": "[encoded data removed]",
      "text/plain": [
       "<Figure size 864x432 with 1 Axes>"
      ]
     },
     "metadata": {
      "needs_background": "light"
     },
     "output_type": "display_data"
    }
   ],
   "source": [
    "rcParams[\"figure.figsize\"] = 12, 6\n",
    "plt.xlabel('max_depth')\n",
    "plt.ylabel('MSE')\n",
    "plt.xlim(0, max(depth))\n",
    "plt.plot(depth, errors_train_sklearn, label='train error-sklearn tree')\n",
    "plt.plot(depth, errors_test_sklearn, label='test error-sklearn tree')\n",
    "plt.plot(depth, errors_train_my_tree, label='train error-my tree')\n",
    "plt.plot(depth, errors_test_my_tree, label='test error-my tree')\n",
    "plt.legend(loc='upper right')\n",
    "plt.show()"
   ]
  },
  {
   "cell_type": "markdown",
   "metadata": {},
   "source": [
    "Вывод: алгоритм на основании собственного алгоритма решающего дерева в сравнении с деревом из sklearn демонстрирует более ввысокую ошибку на тренировочной выборке и более низкую на тестовой при увеличении глубины деревьев\n"
   ]
  },
  {
   "cell_type": "code",
   "execution_count": null,
   "metadata": {},
   "outputs": [],
   "source": []
  }
 ],
 "metadata": {
  "kernelspec": {
   "display_name": "Python 3",
   "language": "python",
   "name": "python3"
  },
  "language_info": {
   "codemirror_mode": {
    "name": "ipython",
    "version": 3
   },
   "file_extension": ".py",
   "mimetype": "text/x-python",
   "name": "python",
   "nbconvert_exporter": "python",
   "pygments_lexer": "ipython3",
   "version": "3.7.4"
  }
 },
 "nbformat": 4,
 "nbformat_minor": 2
}
