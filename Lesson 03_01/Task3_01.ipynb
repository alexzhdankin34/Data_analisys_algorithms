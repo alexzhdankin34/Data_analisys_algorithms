{
 "cells": [
  {
   "cell_type": "markdown",
   "metadata": {},
   "source": [
    "### Урок 3. Классификация. Логистическая регрессия."
   ]
  },
  {
   "cell_type": "code",
   "execution_count": 3,
   "metadata": {
    "colab": {},
    "colab_type": "code",
    "id": "zhwkeWtb1O0w"
   },
   "outputs": [],
   "source": [
    "import numpy as np\n",
    "import matplotlib.pyplot as plt"
   ]
  },
  {
   "cell_type": "code",
   "execution_count": 104,
   "metadata": {
    "colab": {},
    "colab_type": "code",
    "id": "FeKFn2yb1To4"
   },
   "outputs": [],
   "source": [
    "X = np.array([[1, 1, 1, 1, 1, 1, 1, 1, 1, 1],\n",
    "              [1, 1, 2, 5, 3, 0, 5, 10, 1, 2],\n",
    "              [500, 700, 750, 600, 1450, 800, 1500, 2000, 450, 1000],\n",
    "              [1, 1, 2, 1, 2,  1, 3, 3, 1, 2]])\n",
    "y = np.array([0, 0, 1, 0, 1, 0, 1, 0, 1, 1])"
   ]
  },
  {
   "cell_type": "code",
   "execution_count": 108,
   "metadata": {
    "colab": {},
    "colab_type": "code",
    "id": "M-aO1NTxOUfo"
   },
   "outputs": [],
   "source": [
    "#стандартизация, используя матричные операции, срока из 1 не меняется\n",
    "def calc_std_feat(X):\n",
    "    X_1, X_2 = X[1:,], X[0,]\n",
    "    std = X_1.T.std(0)\n",
    "    mean = X_1.T.mean(0)    \n",
    "    res = ((X_1.T-mean)/std).T\n",
    "    res = np.vstack((X_2,res))\n",
    "    return res"
   ]
  },
  {
   "cell_type": "code",
   "execution_count": 109,
   "metadata": {},
   "outputs": [],
   "source": [
    "X_st=X.copy()"
   ]
  },
  {
   "cell_type": "code",
   "execution_count": 110,
   "metadata": {},
   "outputs": [
    {
     "data": {
      "text/plain": [
       "array([[ 1.        ,  1.        ,  1.        ,  1.        ,  1.        ,\n",
       "         1.        ,  1.        ,  1.        ,  1.        ,  1.        ],\n",
       "       [-0.70710678, -0.70710678, -0.35355339,  0.70710678,  0.        ,\n",
       "        -1.06066017,  0.70710678,  2.47487373, -0.70710678, -0.35355339],\n",
       "       [-0.97958969, -0.56713087, -0.46401617, -0.77336028,  0.97958969,\n",
       "        -0.36090146,  1.08270439,  2.11385144, -1.08270439,  0.05155735],\n",
       "       [-0.89625816, -0.89625816,  0.38411064, -0.89625816,  0.38411064,\n",
       "        -0.89625816,  1.66447944,  1.66447944, -0.89625816,  0.38411064]])"
      ]
     },
     "execution_count": 110,
     "metadata": {},
     "output_type": "execute_result"
    }
   ],
   "source": [
    "X_st = calc_std_feat(X_st)\n",
    "X_st"
   ]
  },
  {
   "cell_type": "code",
   "execution_count": 118,
   "metadata": {},
   "outputs": [
    {
     "data": {
      "text/plain": [
       "(array([ 1.00000000e+00,  4.44089210e-17, -4.16333634e-17,  8.32667268e-17]),\n",
       " array([0., 1., 1., 1.]))"
      ]
     },
     "execution_count": 118,
     "metadata": {},
     "output_type": "execute_result"
    }
   ],
   "source": [
    "X_st.T.mean(axis=0), X_st.T.std(axis=0)"
   ]
  },
  {
   "cell_type": "code",
   "execution_count": 9,
   "metadata": {
    "colab": {},
    "colab_type": "code",
    "id": "qMR5pOA38dDw"
   },
   "outputs": [],
   "source": [
    "def calc_logloss(y, y_pred):\n",
    "    err = - np.mean(y * np.log(y_pred) + (1.0 - y) * np.log(1.0 - y_pred))\n",
    "    err = np.sum(err)\n",
    "    return err"
   ]
  },
  {
   "cell_type": "code",
   "execution_count": 11,
   "metadata": {
    "colab": {},
    "colab_type": "code",
    "id": "EEF9rWPNDnss"
   },
   "outputs": [],
   "source": [
    "def sigmoid(z):\n",
    "    res = 1 / (1 + np.exp(-z))\n",
    "    return res"
   ]
  },
  {
   "cell_type": "markdown",
   "metadata": {
    "colab": {},
    "colab_type": "code",
    "id": "e6TH-mkPItb6"
   },
   "source": [
    "Logistic Regression"
   ]
  },
  {
   "cell_type": "markdown",
   "metadata": {},
   "source": [
    "### Д/З 1. Измените функцию calc_logloss так, чтобы нули по возможности не попадали в np.log."
   ]
  },
  {
   "cell_type": "code",
   "execution_count": 15,
   "metadata": {
    "colab": {},
    "colab_type": "code",
    "id": "qtgUN3LW-UIq"
   },
   "outputs": [],
   "source": [
    "def eval_model(X, y, iterations, alpha=1e-4):\n",
    "    np.random.seed(42)\n",
    "    W = np.random.randn(X.shape[0])\n",
    "    n = X.shape[1]\n",
    "    for i in range(1, iterations+1):\n",
    "        z = np.dot(W, X)\n",
    "        y_pred = sigmoid(z)\n",
    "        #для того, чтобы избежать 0 под знаком log, заменим 0 и 1 в массиве y_pred на малые/большие значения\n",
    "        y_pred[y_pred==0] =1e-10\n",
    "        y_pred[y_pred==1] =0.9999999999\n",
    "        err = calc_logloss(y, y_pred)\n",
    "        W -= alpha * (1/n * np.dot((y_pred - y), X.T))\n",
    "        \n",
    "    return W, err"
   ]
  },
  {
   "cell_type": "code",
   "execution_count": 16,
   "metadata": {
    "colab": {
     "base_uri": "https://localhost:8080/",
     "height": 190
    },
    "colab_type": "code",
    "id": "oqX7loklBmYZ",
    "outputId": "f4849295-1f14-40d8-c8f2-d1b002e130c5"
   },
   "outputs": [],
   "source": [
    "W, err = eval_model(X_st, y, iterations=5000, alpha=1)"
   ]
  },
  {
   "cell_type": "markdown",
   "metadata": {},
   "source": [
    "## Д/з"
   ]
  },
  {
   "cell_type": "markdown",
   "metadata": {},
   "source": [
    "1*. Измените функцию calc_logloss так, чтобы нули по возможности не попадали в np.log.\n",
    "\n",
    "2. Подберите аргументы функции eval_model для логистической регрессии таким образом, чтобы log loss был минимальным.\n",
    "3. Создайте функцию calc_pred_proba, возвращающую предсказанную вероятность класса 1 (на вход подаются W, который уже посчитан функцией eval_model и X, на выходе - массив y_pred_proba).\n",
    "4. Создайте функцию calc_pred, возвращающую предсказанный класс (на вход подаются W, который уже посчитан функцией eval_model и X, на выходе - массив y_pred).\n",
    "5. Посчитайте Accuracy, матрицу ошибок, точность и полноту, а также F1 score.\n",
    "6. Могла ли модель переобучиться? Почему?"
   ]
  },
  {
   "cell_type": "markdown",
   "metadata": {},
   "source": [
    "### Д/3 2. Подберите аргументы функции eval_model для логистической регрессии таким образом, чтобы log loss был минимальным."
   ]
  },
  {
   "cell_type": "markdown",
   "metadata": {},
   "source": [
    "Для выбора параметров построим график зависимости ошибки от альфа и количества итераций**"
   ]
  },
  {
   "cell_type": "code",
   "execution_count": 106,
   "metadata": {},
   "outputs": [],
   "source": [
    "from pylab import rcParams\n",
    "\n",
    "rcParams[\"figure.figsize\"] = 15, 9"
   ]
  },
  {
   "cell_type": "code",
   "execution_count": 111,
   "metadata": {},
   "outputs": [
    {
     "data": {
      "image/png": "[encoded data removed]",
      "text/plain": [
       "<Figure size 1080x648 with 1 Axes>"
      ]
     },
     "metadata": {
      "needs_background": "light"
     },
     "output_type": "display_data"
    }
   ],
   "source": [
    "import matplotlib.pyplot as plt\n",
    "alphas = np.linspace(1e-4, 10, 100)\n",
    "iters = [{\"iter\":10, \"color\":\"b\"},\n",
    "         {\"iter\":100, \"color\":\"y\"},\n",
    "         {\"iter\":500, \"color\":\"g\"},\n",
    "         {\"iter\":1000, \"color\":\"r\"},\n",
    "         {\"iter\":3000, \"color\":\"m\"},\n",
    "         {\"iter\":5000, \"color\":\"k\"}\n",
    "        ]\n",
    "for it in iters[:6]:       \n",
    "    errs=[]\n",
    "    for a in alphas:\n",
    "        W, err = eval_model(X_st, y, iterations=it['iter'], alpha=a)\n",
    "        errs.append(err)\n",
    "    plt.plot (alphas, errs, color= it['color'], label = f'{it[\"iter\"]} итераций')\n",
    "\n",
    "plt.yscale('log')\n",
    "plt.title('Log loss')\n",
    "plt.xlabel('alpha')\n",
    "plt.ylabel('loss')\n",
    "plt.legend()\n",
    "             \n",
    "plt.show()"
   ]
  },
  {
   "cell_type": "markdown",
   "metadata": {},
   "source": [
    "**Вывод: для минимизации log loss следует увеличивать число итераций и значение альфа. Можно взять количество итераций =5000 и альфа 10"
   ]
  },
  {
   "cell_type": "markdown",
   "metadata": {},
   "source": [
    "### Д/З 3.Создайте функцию calc_pred_proba, возвращающую предсказанную вероятность класса 1 (на вход подаются W, который уже посчитан функцией eval_model и X, на выходе - массив y_pred_proba)."
   ]
  },
  {
   "cell_type": "markdown",
   "metadata": {},
   "source": [
    "### Д/З 4 Создайте функцию calc_pred, возвращающую предсказанный класс (на вход подаются W, который уже посчитан функцией eval_model и X, на выходе - массив y_pred)."
   ]
  },
  {
   "cell_type": "code",
   "execution_count": 28,
   "metadata": {},
   "outputs": [],
   "source": [
    "def calc_pred_proba (X, W):\n",
    "    return 1/(1+ np.exp(-1*np.dot(W, X))) \n"
   ]
  },
  {
   "cell_type": "code",
   "execution_count": 29,
   "metadata": {},
   "outputs": [
    {
     "data": {
      "text/plain": [
       "array([-81.68333645,  -6.99943053, -23.14756828,  64.85523668])"
      ]
     },
     "execution_count": 29,
     "metadata": {},
     "output_type": "execute_result"
    }
   ],
   "source": [
    "W, err = eval_model(X_st, y, iterations=5000, alpha=10)\n",
    "W"
   ]
  },
  {
   "cell_type": "code",
   "execution_count": 30,
   "metadata": {},
   "outputs": [
    {
     "name": "stdout",
     "output_type": "stream",
     "text": [
      "[2.40048965e-01 2.25482693e-05 1.00000000e+00 1.84953433e-15\n",
      " 9.87304440e-01 2.08761677e-04 1.00000000e+00 2.37009550e-03\n",
      " 7.74595358e-01 1.00000000e+00]\n"
     ]
    }
   ],
   "source": [
    "y_pred_proba = calc_pred_proba (X_st, W)\n",
    "print (y_pred_proba)"
   ]
  },
  {
   "cell_type": "code",
   "execution_count": 32,
   "metadata": {},
   "outputs": [],
   "source": [
    "def calc_pred (W, X):\n",
    "    z = np.dot(W, X)\n",
    "    y_pred = sigmoid(z)\n",
    "    y_pred[y_pred<=0.5] =0\n",
    "    y_pred[y_pred>0.5] =1\n",
    "    return y_pred\n",
    "    "
   ]
  },
  {
   "cell_type": "code",
   "execution_count": 33,
   "metadata": {},
   "outputs": [
    {
     "name": "stdout",
     "output_type": "stream",
     "text": [
      "Истинное значение:  [0. 0. 1. 0. 1. 0. 1. 0. 1. 1.]\n",
      "Предсказ значение:  [0. 0. 1. 0. 1. 0. 1. 0. 1. 1.]\n"
     ]
    }
   ],
   "source": [
    "y_pred = calc_pred (W,X_st )\n",
    "print (\"Истинное значение: \", y)\n",
    "print (\"Предсказ значение: \", y_pred)"
   ]
  },
  {
   "cell_type": "markdown",
   "metadata": {},
   "source": [
    "### Д/З 5. Посчитайте Accuracy, матрицу ошибок, точность и полноту, а также F1 score."
   ]
  },
  {
   "cell_type": "markdown",
   "metadata": {},
   "source": [
    "матрица ошибок:\n",
    "\n",
    "|  <empty>   | $$y = +1$$ | $$y = -1$$ |\n",
    "--- | --- | ---\n",
    "| __$$a_{1}(x) = +1$$__  |   5    |   0   |\n",
    "| __$$a_{1}(x) = -1$$__ |    5    |   0   |\n",
    "    "
   ]
  },
  {
   "cell_type": "code",
   "execution_count": 34,
   "metadata": {},
   "outputs": [],
   "source": [
    "def calculate_quality(y, y_pred):\n",
    "    TP=0\n",
    "    FP=0\n",
    "    FN=0\n",
    "    TN=0\n",
    "    n=0\n",
    "    for i in range(len (y)):\n",
    "\n",
    "        if y[i]== 1 and y_pred[i]==1:\n",
    "            TP+=1\n",
    "            n+=1\n",
    "        elif y[i]== 1 and y_pred[i]==0:\n",
    "            FP+=1\n",
    "        elif y[i]== 0 and y_pred[i]==0:\n",
    "            TN+=1\n",
    "            n+=1\n",
    "        elif y[i]== 0 and y_pred[i]==1:\n",
    "            FN+=1\n",
    "        \n",
    "    accuracy = n/len(y)\n",
    "    𝑝𝑟𝑒𝑐𝑖𝑠𝑖𝑜𝑛 = TP/(TP+FP)\n",
    "    recall =TP/(TP+FN)\n",
    "    F= 2*precision*recall/(precision+recall)\n",
    "    return accuracy, TP, FP, FN, TN, precision, recall, F"
   ]
  },
  {
   "cell_type": "code",
   "execution_count": 35,
   "metadata": {},
   "outputs": [
    {
     "name": "stdout",
     "output_type": "stream",
     "text": [
      "TP= 5\n",
      "FP= 0\n",
      "FN= 0\n",
      "TN= 5\n",
      "accuracy= 1.0\n",
      "precision= 1.0\n",
      "recall= 1.0\n",
      "F= 1.0\n"
     ]
    }
   ],
   "source": [
    "accuracy, TP, FP, FN, TN, precision, recall, F = calculate_quality(y, y_pred)\n",
    "\n",
    "print (\"TP=\",TP)\n",
    "print (\"FP=\", FP)\n",
    "print (\"FN=\", FN)\n",
    "print (\"TN=\", TN)\n",
    "print (\"accuracy=\",accuracy)\n",
    "print (\"precision=\", precision)\n",
    "print (\"recall=\", recall)\n",
    "print (\"F=\", F )"
   ]
  },
  {
   "cell_type": "markdown",
   "metadata": {},
   "source": [
    "### Д/З 6. Могла ли модель переобучиться? Почему?"
   ]
  },
  {
   "cell_type": "markdown",
   "metadata": {},
   "source": [
    "Модель может преобучиться, поскольку в ее основе - линейная регрессия.\n",
    "В данном случае модель определила верно все тестовые значения, признаком переобучеенности может быть также большие значения коэфициентов W и различный знак при них. "
   ]
  },
  {
   "cell_type": "markdown",
   "metadata": {},
   "source": [
    "### Д/З 7*. Создайте функции eval_model_l1 и eval_model_l2 с применением L1 и L2 регуляризаций соответственно."
   ]
  },
  {
   "cell_type": "code",
   "execution_count": 39,
   "metadata": {},
   "outputs": [],
   "source": [
    "#L2- регуляризация \n",
    "def eval_model_l2(X, y, iterations, alpha=1e-4, lambda_coef: float = 0.01):\n",
    "    np.random.seed(42)\n",
    "    W = np.random.randn(X.shape[0])\n",
    "    n = X.shape[1]\n",
    "    for i in range(1, iterations+1):\n",
    "        z = np.dot(W, X)\n",
    "        y_pred = sigmoid(z)\n",
    "        y_pred[y_pred==0] =1e-10\n",
    "        y_pred[y_pred==1] =0.9999999999\n",
    "        err = calc_logloss(y, y_pred)\n",
    "        W = W*(1-alpha*lambda_coef)- alpha * (1/n * np.dot((y_pred - y), X.T))\n",
    "\n",
    "    return W, err"
   ]
  },
  {
   "cell_type": "code",
   "execution_count": 40,
   "metadata": {},
   "outputs": [
    {
     "data": {
      "text/plain": [
       "array([ 0.29325491, -0.4349533 ,  5.55056739, 17.13535989])"
      ]
     },
     "execution_count": 40,
     "metadata": {},
     "output_type": "execute_result"
    }
   ],
   "source": [
    "W, err = eval_model_l2(X_st, y, iterations=5000, alpha=10)\n",
    "W"
   ]
  },
  {
   "cell_type": "code",
   "execution_count": 53,
   "metadata": {},
   "outputs": [],
   "source": [
    "#L1- регуляризация \n",
    "def eval_model_l1(X, y, iterations, alpha=1e-4,  lambda_coef: float = 0.01):\n",
    "    np.random.seed(42)\n",
    "    W = np.random.randn(X.shape[0])\n",
    "    n = X.shape[1]\n",
    "    for i in range(1, iterations+1):\n",
    "        z = np.dot(W, X)\n",
    "        y_pred = sigmoid(z)\n",
    "        \n",
    "        y_pred[y_pred==0] =1e-10\n",
    "        y_pred[y_pred==1] =0.9999999999\n",
    "        err = calc_logloss(y, y_pred)\n",
    "        W -= alpha * (1/n * np.dot((y_pred - y), X.T) +lambda_coef*np.sign(W))\n",
    "       \n",
    "    return W, err"
   ]
  },
  {
   "cell_type": "code",
   "execution_count": 54,
   "metadata": {},
   "outputs": [
    {
     "data": {
      "text/plain": [
       "array([-47.75246104,  -8.40708582,  -9.24170458,  45.83349137])"
      ]
     },
     "execution_count": 54,
     "metadata": {},
     "output_type": "execute_result"
    }
   ],
   "source": [
    "W, err = eval_model_l1(X_st, y, iterations=5000, alpha=10)\n",
    "W"
   ]
  },
  {
   "cell_type": "code",
   "execution_count": 93,
   "metadata": {},
   "outputs": [],
   "source": [
    "arr = np.array([[1,2,1,3,1,1],\n",
    "               [2,2,2,3,2,2],\n",
    "               [3,3,2,3,3,3]])"
   ]
  },
  {
   "cell_type": "code",
   "execution_count": 55,
   "metadata": {},
   "outputs": [],
   "source": [
    "x=[1,1,1]\n",
    "b=[2,2,2]"
   ]
  },
  {
   "cell_type": "code",
   "execution_count": 57,
   "metadata": {},
   "outputs": [
    {
     "data": {
      "text/plain": [
       "array([[0. , 0. , 0. , 0. , 0. , 0. ],\n",
       "       [0.5, 0.5, 0.5, 0.5, 0.5, 0.5],\n",
       "       [1. , 1. , 1. , 1. , 1. , 1. ]])"
      ]
     },
     "execution_count": 57,
     "metadata": {},
     "output_type": "execute_result"
    }
   ],
   "source": [
    "((arr.T-x)/b).T"
   ]
  },
  {
   "cell_type": "code",
   "execution_count": 79,
   "metadata": {},
   "outputs": [
    {
     "data": {
      "text/plain": [
       "array([[-0.65465367, -0.4472136 ,  0.4472136 ],\n",
       "       [ 0.65465367, -0.4472136 ,  0.4472136 ],\n",
       "       [-0.65465367, -0.4472136 , -2.23606798],\n",
       "       [ 1.96396101,  2.23606798,  0.4472136 ],\n",
       "       [-0.65465367, -0.4472136 ,  0.4472136 ],\n",
       "       [-0.65465367, -0.4472136 ,  0.4472136 ]])"
      ]
     },
     "execution_count": 79,
     "metadata": {},
     "output_type": "execute_result"
    }
   ],
   "source": [
    "calc_std_feat(arr)"
   ]
  },
  {
   "cell_type": "code",
   "execution_count": 80,
   "metadata": {},
   "outputs": [
    {
     "data": {
      "text/plain": [
       "array([[2, 2, 2, 3, 2, 2],\n",
       "       [3, 3, 2, 3, 3, 3]])"
      ]
     },
     "execution_count": 80,
     "metadata": {},
     "output_type": "execute_result"
    }
   ],
   "source": [
    "arr[1:,]"
   ]
  },
  {
   "cell_type": "code",
   "execution_count": 90,
   "metadata": {},
   "outputs": [],
   "source": [
    "new=calc_std_feat(arr[1:,])"
   ]
  },
  {
   "cell_type": "code",
   "execution_count": 91,
   "metadata": {},
   "outputs": [
    {
     "data": {
      "text/plain": [
       "array([[-0.4472136 , -0.4472136 , -0.4472136 ,  2.23606798, -0.4472136 ,\n",
       "        -0.4472136 ],\n",
       "       [ 0.4472136 ,  0.4472136 , -2.23606798,  0.4472136 ,  0.4472136 ,\n",
       "         0.4472136 ]])"
      ]
     },
     "execution_count": 91,
     "metadata": {},
     "output_type": "execute_result"
    }
   ],
   "source": [
    "new"
   ]
  },
  {
   "cell_type": "code",
   "execution_count": 92,
   "metadata": {},
   "outputs": [
    {
     "data": {
      "text/plain": [
       "array([1, 2, 1, 3, 1, 1])"
      ]
     },
     "execution_count": 92,
     "metadata": {},
     "output_type": "execute_result"
    }
   ],
   "source": [
    "arr[0,]"
   ]
  },
  {
   "cell_type": "code",
   "execution_count": 95,
   "metadata": {},
   "outputs": [],
   "source": [
    "A = np.vstack((arr[0,],new))"
   ]
  },
  {
   "cell_type": "code",
   "execution_count": 96,
   "metadata": {},
   "outputs": [
    {
     "data": {
      "text/plain": [
       "array([[ 1.        ,  2.        ,  1.        ,  3.        ,  1.        ,\n",
       "         1.        ],\n",
       "       [-0.4472136 , -0.4472136 , -0.4472136 ,  2.23606798, -0.4472136 ,\n",
       "        -0.4472136 ],\n",
       "       [ 0.4472136 ,  0.4472136 , -2.23606798,  0.4472136 ,  0.4472136 ,\n",
       "         0.4472136 ]])"
      ]
     },
     "execution_count": 96,
     "metadata": {},
     "output_type": "execute_result"
    }
   ],
   "source": [
    "A"
   ]
  },
  {
   "cell_type": "code",
   "execution_count": 99,
   "metadata": {},
   "outputs": [],
   "source": [
    "new=calc_std_feat(arr)"
   ]
  },
  {
   "cell_type": "code",
   "execution_count": 100,
   "metadata": {},
   "outputs": [
    {
     "data": {
      "text/plain": [
       "array([[ 2.        ,  2.        ,  2.        ,  3.        ,  2.        ,\n",
       "         2.        ],\n",
       "       [-0.4472136 , -0.4472136 , -0.4472136 ,  2.23606798, -0.4472136 ,\n",
       "        -0.4472136 ],\n",
       "       [ 0.4472136 ,  0.4472136 , -2.23606798,  0.4472136 ,  0.4472136 ,\n",
       "         0.4472136 ]])"
      ]
     },
     "execution_count": 100,
     "metadata": {},
     "output_type": "execute_result"
    }
   ],
   "source": [
    "new"
   ]
  },
  {
   "cell_type": "code",
   "execution_count": null,
   "metadata": {},
   "outputs": [],
   "source": []
  }
 ],
 "metadata": {
  "colab": {
   "collapsed_sections": [],
   "name": "Lesson3.ipynb",
   "provenance": []
  },
  "kernelspec": {
   "display_name": "Python 3",
   "language": "python",
   "name": "python3"
  },
  "language_info": {
   "codemirror_mode": {
    "name": "ipython",
    "version": 3
   },
   "file_extension": ".py",
   "mimetype": "text/x-python",
   "name": "python",
   "nbconvert_exporter": "python",
   "pygments_lexer": "ipython3",
   "version": "3.7.4"
  }
 },
 "nbformat": 4,
 "nbformat_minor": 1
}
