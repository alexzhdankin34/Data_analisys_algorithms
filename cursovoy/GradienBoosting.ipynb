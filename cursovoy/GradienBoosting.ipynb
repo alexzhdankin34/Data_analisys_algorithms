{
 "cells": [
  {
   "cell_type": "code",
   "execution_count": 36,
   "metadata": {},
   "outputs": [],
   "source": [
    "import matplotlib.pyplot as plt\n",
    "import random\n",
    "\n",
    "from matplotlib.colors import ListedColormap\n",
    "from sklearn import datasets\n",
    "from sklearn.tree import DecisionTreeRegressor \n",
    "\n",
    "import numpy as np\n",
    "import pandas as pd\n",
    "from sklearn import model_selection"
   ]
  },
  {
   "cell_type": "markdown",
   "metadata": {},
   "source": [
    "Реализуем градиентный бустинг на основе Descision Tree из sklearn"
   ]
  },
  {
   "cell_type": "code",
   "execution_count": 424,
   "metadata": {},
   "outputs": [],
   "source": [
    "class GradientBoosting:\n",
    "    \n",
    "    def __init__(self, n_trees, coefs,\n",
    "                 max_depth=4,\n",
    "                 max_leaf_nodes=200,\n",
    "                 min_leaf=1,\n",
    "                 eta = 0.7,\n",
    "                 algorythm = 'sklearn'):\n",
    "        self.n_trees = n_trees #число деревьев в ансабле\n",
    "        self.max_depth = max_depth #ограничение максимальной глубины деревьев в ансабле\n",
    "        self.max_leaf_nodes = max_leaf_nodes #ограничение максимального числа листьев в деревьях\n",
    "        self.min_leaf = min_leaf #ограничние минимльного количества объектов в листе\n",
    "        self.eta =eta # шаг градиентного бустинга\n",
    "        self.algorythm = algorythm #алгоритм реализации решающего дерева\n",
    "        self.trees_list = [] #список деревьев в ансабле\n",
    "        self.coefs = coefs # список коэфицинтов \n",
    "        self.trees_predicts=[]\n",
    "        self.bootstrap = []\n",
    "        self.sample_indexes = None\n",
    "\n",
    "    \n",
    "    \n",
    "    def predict(self, X):\n",
    "        # Реализуемый алгоритм градиентного бустинга будет инициализироваться нулевыми значениями,\n",
    "        # поэтому все деревья из списка trees_list уже являются дополнительными и при предсказании прибавляются с шагом eta\n",
    "        return np.array([sum([self.eta* coef * alg.predict([x])[0] for alg, coef in zip(self.trees_list, self.coefs)]) for x in X])\n",
    "    \n",
    "    def mean_squared_error(self, y_real, prediction):\n",
    "        return (sum((y_real - prediction)**2)) / len(y_real)\n",
    "\n",
    "    def bias(self, y, z):\n",
    "        return (y - z)\n",
    "    \n",
    "    def fit(self, X_train, y_train):\n",
    "    \n",
    "        # Деревья будем записывать в список\n",
    "        self.trees_list = []\n",
    "    \n",
    "        for i in range(self.n_trees):\n",
    "            tree = DecisionTreeRegressor(max_depth=self.max_depth,  random_state=42)\n",
    "           \n",
    "          \n",
    "            if len(self.trees_list) == 0:\n",
    "                # обучаем первое дерево на обучающей выборке\n",
    "                tree.fit(X_train, y_train)\n",
    "               \n",
    "            else:\n",
    "                # Получим ответы на текущей композиции\n",
    "                target = self.predict(X_train)\n",
    "                # алгоритмы начиная со второго обучаем на сдвиг\n",
    "                bais = self.bias(y_train, target)\n",
    "                tree.fit(X_train,bais)\n",
    "                \n",
    "            \n",
    "            self.trees_list.append(tree)\n",
    "\n",
    "        return self\n"
   ]
  },
  {
   "cell_type": "code",
   "execution_count": 425,
   "metadata": {},
   "outputs": [],
   "source": [
    "def r_2(y_pred, y_true):\n",
    "    numerator = ((y_true - y_pred) ** 2).sum(axis=0, dtype=np.float64)\n",
    "    denominator = ((y_true - np.average(y_true)) ** 2).sum(axis=0,\n",
    "                                                          dtype=np.float64)\n",
    "    return 1 - (numerator / denominator)"
   ]
  },
  {
   "cell_type": "markdown",
   "metadata": {},
   "source": [
    "Проверим работоспособность алгоритма на искусственных данных"
   ]
  },
  {
   "cell_type": "code",
   "execution_count": 426,
   "metadata": {},
   "outputs": [],
   "source": [
    "n_samples = 10000\n",
    "data, target, coef = datasets.make_regression(\n",
    "    n_samples=n_samples,\n",
    "    n_features=5,\n",
    "    n_targets=1,\n",
    "    noise=10,\n",
    "    coef=True,\n",
    "    random_state=69\n",
    ")"
   ]
  },
  {
   "cell_type": "code",
   "execution_count": 427,
   "metadata": {},
   "outputs": [],
   "source": [
    "X_train, X_test, y_train, y_test = model_selection.train_test_split(data, target, test_size=0.25)"
   ]
  },
  {
   "cell_type": "code",
   "execution_count": 428,
   "metadata": {},
   "outputs": [],
   "source": [
    "n_trees=20\n",
    "coefs = [1] * n_trees"
   ]
  },
  {
   "cell_type": "code",
   "execution_count": 429,
   "metadata": {},
   "outputs": [],
   "source": [
    "alg=GradientBoosting(n_trees=n_trees, max_depth=4, coefs=coefs)"
   ]
  },
  {
   "cell_type": "code",
   "execution_count": 430,
   "metadata": {},
   "outputs": [
    {
     "data": {
      "text/plain": [
       "<__main__.GradientBoosting at 0x1ab22527d48>"
      ]
     },
     "execution_count": 430,
     "metadata": {},
     "output_type": "execute_result"
    }
   ],
   "source": [
    "alg.fit(X_train,y_train)"
   ]
  },
  {
   "cell_type": "code",
   "execution_count": 431,
   "metadata": {},
   "outputs": [],
   "source": [
    "train_target_pred = alg.predict(X_train)"
   ]
  },
  {
   "cell_type": "code",
   "execution_count": 432,
   "metadata": {},
   "outputs": [
    {
     "data": {
      "text/plain": [
       "0.9799150372988128"
      ]
     },
     "execution_count": 432,
     "metadata": {},
     "output_type": "execute_result"
    }
   ],
   "source": [
    "r2_train = r_2(train_target_pred, y_train)\n",
    "r2_train"
   ]
  },
  {
   "cell_type": "code",
   "execution_count": 433,
   "metadata": {},
   "outputs": [],
   "source": [
    "test_target_pred = alg.predict(X_test)"
   ]
  },
  {
   "cell_type": "code",
   "execution_count": 434,
   "metadata": {},
   "outputs": [
    {
     "data": {
      "text/plain": [
       "0.9729062066532215"
      ]
     },
     "execution_count": 434,
     "metadata": {},
     "output_type": "execute_result"
    }
   ],
   "source": [
    "r2_test = r_2(test_target_pred, y_test)\n",
    "r2_test"
   ]
  },
  {
   "cell_type": "markdown",
   "metadata": {},
   "source": [
    "Вывод: алгоритм дает хороший результат на искуственных данных"
   ]
  },
  {
   "cell_type": "markdown",
   "metadata": {},
   "source": [
    "### Работаем с основным датасетом"
   ]
  },
  {
   "cell_type": "code",
   "execution_count": 599,
   "metadata": {},
   "outputs": [],
   "source": [
    "#функция печати корреляционной матрицы\n",
    "def print_corr_matrix(corr, v_max=0.7):\n",
    "    mask = np.triu(np.ones_like(corr, dtype=np.bool))\n",
    "\n",
    "    f, ax = plt.subplots(figsize=(11, 9))\n",
    "\n",
    "    cmap = sns.diverging_palette(220, 10, as_cmap=True)\n",
    "\n",
    "    sns.heatmap(corr, mask=mask, cmap=cmap, vmax=v_max, center=0,\n",
    "                square=True, linewidths=.5, cbar_kws={\"shrink\": .5})"
   ]
  },
  {
   "cell_type": "code",
   "execution_count": 600,
   "metadata": {},
   "outputs": [],
   "source": [
    "test_data_link =r'test_data/test.csv'\n",
    "train_data_link = r'train_data/train.csv'\n",
    "result_data_link = r'test_data/submission4.csv'"
   ]
  },
  {
   "cell_type": "code",
   "execution_count": 601,
   "metadata": {},
   "outputs": [],
   "source": [
    "train_data_main = pd.read_csv(train_data_link)"
   ]
  },
  {
   "cell_type": "code",
   "execution_count": 602,
   "metadata": {},
   "outputs": [],
   "source": [
    "train_data = train_data_main.copy()"
   ]
  },
  {
   "cell_type": "code",
   "execution_count": 603,
   "metadata": {},
   "outputs": [],
   "source": [
    "mean_score_train=train_data.loc[0:,'mean_exam_points'].to_numpy()"
   ]
  },
  {
   "cell_type": "code",
   "execution_count": 604,
   "metadata": {},
   "outputs": [],
   "source": [
    "train_data=train_data.drop(['mean_exam_points'], axis=1)"
   ]
  },
  {
   "cell_type": "code",
   "execution_count": 605,
   "metadata": {},
   "outputs": [],
   "source": [
    "# функция генерации дополнительных признаков на основе существующих\n",
    "def feature_generation (train_data_main):\n",
    "    #train_data_main['log_lesson_price']=np.log(train_data_main['lesson_price'])\n",
    "    #train_data_main['sqr_lesson_price']=np.sqrt(train_data_main['lesson_price'])\n",
    "    train_data_main['qulification_total']=train_data_main['physics']+train_data_main['chemistry']+train_data_main['biology']+train_data_main['english']+train_data_main['geography']+train_data_main['history']\n",
    "    train_data_main['is_expirienced']=(train_data_main['qulification_total']> 0).astype('int64')\n",
    "    train_data_main['highly_qualified']=(train_data_main['qualification']> 2).astype('int64')\n",
    "    train_data_main['is_old']=(train_data_main['age']>train_data_main['age'].quantile(.75)).astype('int64')\n",
    "    train_data_main['is_young']=(train_data_main['age']<train_data_main['age'].quantile(.25)).astype('int64')\n",
    "    train_data_main['qualification_in_physics']=train_data_main[\"physics\"]*train_data_main['qualification']\n",
    "    train_data_main['expirience_in_physics']=train_data_main[\"physics\"]*train_data_main['years_of_experience']\n",
    "    train_data_main['qual_vs_experience_in_ph']=train_data_main[\"expirience_in_physics\"]*train_data_main['qualification_in_physics']\n",
    "    train_data_main['qual_for_money']=train_data_main['lesson_price']*(np.exp(train_data['qualification']))\n",
    "    train_data_main['is_expensive']=(train_data_main['lesson_price']>train_data_main['lesson_price'].quantile(.75)).astype('int64')\n",
    "    train_data_main['is_chip']=(train_data_main['lesson_price']<train_data_main['lesson_price'].quantile(.25)).astype('int64')\n",
    "    train_data_main=train_data_main.drop(['Id'], axis=1)\n",
    "\n",
    "    return train_data_main"
   ]
  },
  {
   "cell_type": "code",
   "execution_count": 606,
   "metadata": {},
   "outputs": [],
   "source": [
    "train_features=feature_generation(train_data).to_numpy()"
   ]
  },
  {
   "cell_type": "code",
   "execution_count": 607,
   "metadata": {},
   "outputs": [
    {
     "data": {
      "text/plain": [
       "array([[4.00000000e+01, 0.00000000e+00, 1.40000000e+03, ...,\n",
       "        3.80559456e+03, 0.00000000e+00, 0.00000000e+00],\n",
       "       [4.80000000e+01, 4.00000000e+00, 2.85000000e+03, ...,\n",
       "        5.72437802e+04, 1.00000000e+00, 0.00000000e+00],\n",
       "       [3.90000000e+01, 0.00000000e+00, 1.20000000e+03, ...,\n",
       "        3.26193819e+03, 0.00000000e+00, 1.00000000e+00],\n",
       "       ...,\n",
       "       [3.40000000e+01, 1.00000000e+00, 1.25000000e+03, ...,\n",
       "        3.39785229e+03, 0.00000000e+00, 1.00000000e+00],\n",
       "       [3.30000000e+01, 3.00000000e+00, 1.10000000e+03, ...,\n",
       "        2.99011001e+03, 0.00000000e+00, 1.00000000e+00],\n",
       "       [3.50000000e+01, 0.00000000e+00, 1.45000000e+03, ...,\n",
       "        3.94150865e+03, 0.00000000e+00, 0.00000000e+00]])"
      ]
     },
     "execution_count": 607,
     "metadata": {},
     "output_type": "execute_result"
    }
   ],
   "source": [
    "train_features"
   ]
  },
  {
   "cell_type": "code",
   "execution_count": 608,
   "metadata": {},
   "outputs": [],
   "source": [
    "X_train, X_test, y_train, y_test = model_selection.train_test_split(train_features, mean_score_train, test_size=0.25)"
   ]
  },
  {
   "cell_type": "code",
   "execution_count": 701,
   "metadata": {},
   "outputs": [],
   "source": [
    "n_trees=8\n",
    "coefs = [1] * n_trees"
   ]
  },
  {
   "cell_type": "code",
   "execution_count": 702,
   "metadata": {},
   "outputs": [],
   "source": [
    "model_GB = GradientBoosting(n_trees=n_trees, max_depth=4, coefs=coefs)"
   ]
  },
  {
   "cell_type": "code",
   "execution_count": 703,
   "metadata": {},
   "outputs": [
    {
     "data": {
      "text/plain": [
       "<__main__.GradientBoosting at 0x1ab22a30608>"
      ]
     },
     "execution_count": 703,
     "metadata": {},
     "output_type": "execute_result"
    }
   ],
   "source": [
    "model_GB.fit(X_train, y_train)"
   ]
  },
  {
   "cell_type": "code",
   "execution_count": 704,
   "metadata": {},
   "outputs": [],
   "source": [
    "y_train_pred = model_GB.predict(X_train)"
   ]
  },
  {
   "cell_type": "code",
   "execution_count": 705,
   "metadata": {},
   "outputs": [
    {
     "data": {
      "text/plain": [
       "0.7902196482250665"
      ]
     },
     "execution_count": 705,
     "metadata": {},
     "output_type": "execute_result"
    }
   ],
   "source": [
    "r2_train = r_2(y_train_pred, y_train)\n",
    "r2_train"
   ]
  },
  {
   "cell_type": "code",
   "execution_count": 706,
   "metadata": {},
   "outputs": [],
   "source": [
    "y_test_pred = model_GB.predict(X_test)"
   ]
  },
  {
   "cell_type": "code",
   "execution_count": 707,
   "metadata": {},
   "outputs": [
    {
     "data": {
      "text/plain": [
       "0.7688581849495012"
      ]
     },
     "execution_count": 707,
     "metadata": {},
     "output_type": "execute_result"
    }
   ],
   "source": [
    "r2_test = r_2(y_test_pred, y_test)\n",
    "r2_test"
   ]
  },
  {
   "cell_type": "markdown",
   "metadata": {},
   "source": [
    "Обучим модель на всем объеме данных train"
   ]
  },
  {
   "cell_type": "code",
   "execution_count": 637,
   "metadata": {},
   "outputs": [
    {
     "data": {
      "text/plain": [
       "<__main__.GradientBoosting at 0x1ab22a0dac8>"
      ]
     },
     "execution_count": 637,
     "metadata": {},
     "output_type": "execute_result"
    }
   ],
   "source": [
    "model_GB.fit(train_features, mean_score_train)"
   ]
  },
  {
   "cell_type": "markdown",
   "metadata": {},
   "source": [
    "### Предсказание на тестовых данных"
   ]
  },
  {
   "cell_type": "markdown",
   "metadata": {},
   "source": [
    "Обработка данных и генерирование признаков"
   ]
  },
  {
   "cell_type": "code",
   "execution_count": 507,
   "metadata": {},
   "outputs": [
    {
     "data": {
      "text/html": [
       "<div>\n",
       "<style scoped>\n",
       "    .dataframe tbody tr th:only-of-type {\n",
       "        vertical-align: middle;\n",
       "    }\n",
       "\n",
       "    .dataframe tbody tr th {\n",
       "        vertical-align: top;\n",
       "    }\n",
       "\n",
       "    .dataframe thead th {\n",
       "        text-align: right;\n",
       "    }\n",
       "</style>\n",
       "<table border=\"1\" class=\"dataframe\">\n",
       "  <thead>\n",
       "    <tr style=\"text-align: right;\">\n",
       "      <th></th>\n",
       "      <th>Id</th>\n",
       "      <th>age</th>\n",
       "      <th>years_of_experience</th>\n",
       "      <th>lesson_price</th>\n",
       "      <th>qualification</th>\n",
       "      <th>physics</th>\n",
       "      <th>chemistry</th>\n",
       "      <th>biology</th>\n",
       "      <th>english</th>\n",
       "      <th>geography</th>\n",
       "      <th>history</th>\n",
       "    </tr>\n",
       "  </thead>\n",
       "  <tbody>\n",
       "    <tr>\n",
       "      <td>0</td>\n",
       "      <td>10000</td>\n",
       "      <td>46.0</td>\n",
       "      <td>3.0</td>\n",
       "      <td>1050.0</td>\n",
       "      <td>1.0</td>\n",
       "      <td>0.0</td>\n",
       "      <td>1.0</td>\n",
       "      <td>0.0</td>\n",
       "      <td>0.0</td>\n",
       "      <td>0.0</td>\n",
       "      <td>0.0</td>\n",
       "    </tr>\n",
       "    <tr>\n",
       "      <td>1</td>\n",
       "      <td>10001</td>\n",
       "      <td>43.0</td>\n",
       "      <td>3.0</td>\n",
       "      <td>1850.0</td>\n",
       "      <td>2.0</td>\n",
       "      <td>0.0</td>\n",
       "      <td>0.0</td>\n",
       "      <td>0.0</td>\n",
       "      <td>0.0</td>\n",
       "      <td>0.0</td>\n",
       "      <td>0.0</td>\n",
       "    </tr>\n",
       "    <tr>\n",
       "      <td>2</td>\n",
       "      <td>10002</td>\n",
       "      <td>52.0</td>\n",
       "      <td>1.0</td>\n",
       "      <td>1550.0</td>\n",
       "      <td>1.0</td>\n",
       "      <td>1.0</td>\n",
       "      <td>0.0</td>\n",
       "      <td>0.0</td>\n",
       "      <td>0.0</td>\n",
       "      <td>0.0</td>\n",
       "      <td>0.0</td>\n",
       "    </tr>\n",
       "    <tr>\n",
       "      <td>3</td>\n",
       "      <td>10003</td>\n",
       "      <td>57.0</td>\n",
       "      <td>6.0</td>\n",
       "      <td>2900.0</td>\n",
       "      <td>3.0</td>\n",
       "      <td>1.0</td>\n",
       "      <td>0.0</td>\n",
       "      <td>1.0</td>\n",
       "      <td>0.0</td>\n",
       "      <td>0.0</td>\n",
       "      <td>0.0</td>\n",
       "    </tr>\n",
       "    <tr>\n",
       "      <td>4</td>\n",
       "      <td>10004</td>\n",
       "      <td>44.0</td>\n",
       "      <td>4.0</td>\n",
       "      <td>3150.0</td>\n",
       "      <td>3.0</td>\n",
       "      <td>1.0</td>\n",
       "      <td>0.0</td>\n",
       "      <td>0.0</td>\n",
       "      <td>0.0</td>\n",
       "      <td>0.0</td>\n",
       "      <td>0.0</td>\n",
       "    </tr>\n",
       "    <tr>\n",
       "      <td>...</td>\n",
       "      <td>...</td>\n",
       "      <td>...</td>\n",
       "      <td>...</td>\n",
       "      <td>...</td>\n",
       "      <td>...</td>\n",
       "      <td>...</td>\n",
       "      <td>...</td>\n",
       "      <td>...</td>\n",
       "      <td>...</td>\n",
       "      <td>...</td>\n",
       "      <td>...</td>\n",
       "    </tr>\n",
       "    <tr>\n",
       "      <td>9995</td>\n",
       "      <td>19995</td>\n",
       "      <td>42.0</td>\n",
       "      <td>0.0</td>\n",
       "      <td>1500.0</td>\n",
       "      <td>1.0</td>\n",
       "      <td>0.0</td>\n",
       "      <td>0.0</td>\n",
       "      <td>0.0</td>\n",
       "      <td>0.0</td>\n",
       "      <td>0.0</td>\n",
       "      <td>0.0</td>\n",
       "    </tr>\n",
       "    <tr>\n",
       "      <td>9996</td>\n",
       "      <td>19996</td>\n",
       "      <td>51.0</td>\n",
       "      <td>2.0</td>\n",
       "      <td>2200.0</td>\n",
       "      <td>3.0</td>\n",
       "      <td>0.0</td>\n",
       "      <td>1.0</td>\n",
       "      <td>0.0</td>\n",
       "      <td>0.0</td>\n",
       "      <td>0.0</td>\n",
       "      <td>0.0</td>\n",
       "    </tr>\n",
       "    <tr>\n",
       "      <td>9997</td>\n",
       "      <td>19997</td>\n",
       "      <td>33.0</td>\n",
       "      <td>5.0</td>\n",
       "      <td>1100.0</td>\n",
       "      <td>1.0</td>\n",
       "      <td>0.0</td>\n",
       "      <td>0.0</td>\n",
       "      <td>0.0</td>\n",
       "      <td>0.0</td>\n",
       "      <td>0.0</td>\n",
       "      <td>0.0</td>\n",
       "    </tr>\n",
       "    <tr>\n",
       "      <td>9998</td>\n",
       "      <td>19998</td>\n",
       "      <td>48.0</td>\n",
       "      <td>0.0</td>\n",
       "      <td>1750.0</td>\n",
       "      <td>2.0</td>\n",
       "      <td>0.0</td>\n",
       "      <td>0.0</td>\n",
       "      <td>0.0</td>\n",
       "      <td>0.0</td>\n",
       "      <td>0.0</td>\n",
       "      <td>0.0</td>\n",
       "    </tr>\n",
       "    <tr>\n",
       "      <td>9999</td>\n",
       "      <td>19999</td>\n",
       "      <td>49.0</td>\n",
       "      <td>5.0</td>\n",
       "      <td>2000.0</td>\n",
       "      <td>2.0</td>\n",
       "      <td>1.0</td>\n",
       "      <td>0.0</td>\n",
       "      <td>0.0</td>\n",
       "      <td>0.0</td>\n",
       "      <td>0.0</td>\n",
       "      <td>0.0</td>\n",
       "    </tr>\n",
       "  </tbody>\n",
       "</table>\n",
       "<p>10000 rows × 11 columns</p>\n",
       "</div>"
      ],
      "text/plain": [
       "         Id   age  years_of_experience  lesson_price  qualification  physics  \\\n",
       "0     10000  46.0                  3.0        1050.0            1.0      0.0   \n",
       "1     10001  43.0                  3.0        1850.0            2.0      0.0   \n",
       "2     10002  52.0                  1.0        1550.0            1.0      1.0   \n",
       "3     10003  57.0                  6.0        2900.0            3.0      1.0   \n",
       "4     10004  44.0                  4.0        3150.0            3.0      1.0   \n",
       "...     ...   ...                  ...           ...            ...      ...   \n",
       "9995  19995  42.0                  0.0        1500.0            1.0      0.0   \n",
       "9996  19996  51.0                  2.0        2200.0            3.0      0.0   \n",
       "9997  19997  33.0                  5.0        1100.0            1.0      0.0   \n",
       "9998  19998  48.0                  0.0        1750.0            2.0      0.0   \n",
       "9999  19999  49.0                  5.0        2000.0            2.0      1.0   \n",
       "\n",
       "      chemistry  biology  english  geography  history  \n",
       "0           1.0      0.0      0.0        0.0      0.0  \n",
       "1           0.0      0.0      0.0        0.0      0.0  \n",
       "2           0.0      0.0      0.0        0.0      0.0  \n",
       "3           0.0      1.0      0.0        0.0      0.0  \n",
       "4           0.0      0.0      0.0        0.0      0.0  \n",
       "...         ...      ...      ...        ...      ...  \n",
       "9995        0.0      0.0      0.0        0.0      0.0  \n",
       "9996        1.0      0.0      0.0        0.0      0.0  \n",
       "9997        0.0      0.0      0.0        0.0      0.0  \n",
       "9998        0.0      0.0      0.0        0.0      0.0  \n",
       "9999        0.0      0.0      0.0        0.0      0.0  \n",
       "\n",
       "[10000 rows x 11 columns]"
      ]
     },
     "execution_count": 507,
     "metadata": {},
     "output_type": "execute_result"
    }
   ],
   "source": [
    "test_data= pd.read_csv(test_data_link)\n",
    "test_data"
   ]
  },
  {
   "cell_type": "code",
   "execution_count": null,
   "metadata": {},
   "outputs": [],
   "source": []
  },
  {
   "cell_type": "code",
   "execution_count": 508,
   "metadata": {},
   "outputs": [
    {
     "data": {
      "text/html": [
       "<div>\n",
       "<style scoped>\n",
       "    .dataframe tbody tr th:only-of-type {\n",
       "        vertical-align: middle;\n",
       "    }\n",
       "\n",
       "    .dataframe tbody tr th {\n",
       "        vertical-align: top;\n",
       "    }\n",
       "\n",
       "    .dataframe thead th {\n",
       "        text-align: right;\n",
       "    }\n",
       "</style>\n",
       "<table border=\"1\" class=\"dataframe\">\n",
       "  <thead>\n",
       "    <tr style=\"text-align: right;\">\n",
       "      <th></th>\n",
       "      <th>age</th>\n",
       "      <th>years_of_experience</th>\n",
       "      <th>lesson_price</th>\n",
       "      <th>qualification</th>\n",
       "      <th>physics</th>\n",
       "      <th>chemistry</th>\n",
       "      <th>biology</th>\n",
       "      <th>english</th>\n",
       "      <th>geography</th>\n",
       "      <th>history</th>\n",
       "      <th>...</th>\n",
       "      <th>is_expirienced</th>\n",
       "      <th>highly_qualified</th>\n",
       "      <th>is_old</th>\n",
       "      <th>is_young</th>\n",
       "      <th>qualification_in_physics</th>\n",
       "      <th>expirience_in_physics</th>\n",
       "      <th>qual_vs_experience_in_ph</th>\n",
       "      <th>qual_for_money</th>\n",
       "      <th>is_expensive</th>\n",
       "      <th>is_chip</th>\n",
       "    </tr>\n",
       "  </thead>\n",
       "  <tbody>\n",
       "    <tr>\n",
       "      <td>0</td>\n",
       "      <td>46.0</td>\n",
       "      <td>3.0</td>\n",
       "      <td>1050.0</td>\n",
       "      <td>1.0</td>\n",
       "      <td>0.0</td>\n",
       "      <td>1.0</td>\n",
       "      <td>0.0</td>\n",
       "      <td>0.0</td>\n",
       "      <td>0.0</td>\n",
       "      <td>0.0</td>\n",
       "      <td>...</td>\n",
       "      <td>1</td>\n",
       "      <td>0</td>\n",
       "      <td>0</td>\n",
       "      <td>0</td>\n",
       "      <td>0.0</td>\n",
       "      <td>0.0</td>\n",
       "      <td>0.0</td>\n",
       "      <td>2854.195920</td>\n",
       "      <td>0</td>\n",
       "      <td>1</td>\n",
       "    </tr>\n",
       "    <tr>\n",
       "      <td>1</td>\n",
       "      <td>43.0</td>\n",
       "      <td>3.0</td>\n",
       "      <td>1850.0</td>\n",
       "      <td>2.0</td>\n",
       "      <td>0.0</td>\n",
       "      <td>0.0</td>\n",
       "      <td>0.0</td>\n",
       "      <td>0.0</td>\n",
       "      <td>0.0</td>\n",
       "      <td>0.0</td>\n",
       "      <td>...</td>\n",
       "      <td>0</td>\n",
       "      <td>0</td>\n",
       "      <td>0</td>\n",
       "      <td>0</td>\n",
       "      <td>0.0</td>\n",
       "      <td>0.0</td>\n",
       "      <td>0.0</td>\n",
       "      <td>37158.243308</td>\n",
       "      <td>0</td>\n",
       "      <td>0</td>\n",
       "    </tr>\n",
       "    <tr>\n",
       "      <td>2</td>\n",
       "      <td>52.0</td>\n",
       "      <td>1.0</td>\n",
       "      <td>1550.0</td>\n",
       "      <td>1.0</td>\n",
       "      <td>1.0</td>\n",
       "      <td>0.0</td>\n",
       "      <td>0.0</td>\n",
       "      <td>0.0</td>\n",
       "      <td>0.0</td>\n",
       "      <td>0.0</td>\n",
       "      <td>...</td>\n",
       "      <td>1</td>\n",
       "      <td>0</td>\n",
       "      <td>1</td>\n",
       "      <td>0</td>\n",
       "      <td>1.0</td>\n",
       "      <td>1.0</td>\n",
       "      <td>1.0</td>\n",
       "      <td>4213.336834</td>\n",
       "      <td>0</td>\n",
       "      <td>0</td>\n",
       "    </tr>\n",
       "    <tr>\n",
       "      <td>3</td>\n",
       "      <td>57.0</td>\n",
       "      <td>6.0</td>\n",
       "      <td>2900.0</td>\n",
       "      <td>3.0</td>\n",
       "      <td>1.0</td>\n",
       "      <td>0.0</td>\n",
       "      <td>1.0</td>\n",
       "      <td>0.0</td>\n",
       "      <td>0.0</td>\n",
       "      <td>0.0</td>\n",
       "      <td>...</td>\n",
       "      <td>1</td>\n",
       "      <td>1</td>\n",
       "      <td>1</td>\n",
       "      <td>0</td>\n",
       "      <td>3.0</td>\n",
       "      <td>6.0</td>\n",
       "      <td>18.0</td>\n",
       "      <td>7883.017303</td>\n",
       "      <td>1</td>\n",
       "      <td>0</td>\n",
       "    </tr>\n",
       "    <tr>\n",
       "      <td>4</td>\n",
       "      <td>44.0</td>\n",
       "      <td>4.0</td>\n",
       "      <td>3150.0</td>\n",
       "      <td>3.0</td>\n",
       "      <td>1.0</td>\n",
       "      <td>0.0</td>\n",
       "      <td>0.0</td>\n",
       "      <td>0.0</td>\n",
       "      <td>0.0</td>\n",
       "      <td>0.0</td>\n",
       "      <td>...</td>\n",
       "      <td>1</td>\n",
       "      <td>1</td>\n",
       "      <td>0</td>\n",
       "      <td>0</td>\n",
       "      <td>3.0</td>\n",
       "      <td>4.0</td>\n",
       "      <td>12.0</td>\n",
       "      <td>8562.587760</td>\n",
       "      <td>1</td>\n",
       "      <td>0</td>\n",
       "    </tr>\n",
       "    <tr>\n",
       "      <td>...</td>\n",
       "      <td>...</td>\n",
       "      <td>...</td>\n",
       "      <td>...</td>\n",
       "      <td>...</td>\n",
       "      <td>...</td>\n",
       "      <td>...</td>\n",
       "      <td>...</td>\n",
       "      <td>...</td>\n",
       "      <td>...</td>\n",
       "      <td>...</td>\n",
       "      <td>...</td>\n",
       "      <td>...</td>\n",
       "      <td>...</td>\n",
       "      <td>...</td>\n",
       "      <td>...</td>\n",
       "      <td>...</td>\n",
       "      <td>...</td>\n",
       "      <td>...</td>\n",
       "      <td>...</td>\n",
       "      <td>...</td>\n",
       "      <td>...</td>\n",
       "    </tr>\n",
       "    <tr>\n",
       "      <td>9995</td>\n",
       "      <td>42.0</td>\n",
       "      <td>0.0</td>\n",
       "      <td>1500.0</td>\n",
       "      <td>1.0</td>\n",
       "      <td>0.0</td>\n",
       "      <td>0.0</td>\n",
       "      <td>0.0</td>\n",
       "      <td>0.0</td>\n",
       "      <td>0.0</td>\n",
       "      <td>0.0</td>\n",
       "      <td>...</td>\n",
       "      <td>0</td>\n",
       "      <td>0</td>\n",
       "      <td>0</td>\n",
       "      <td>0</td>\n",
       "      <td>0.0</td>\n",
       "      <td>0.0</td>\n",
       "      <td>0.0</td>\n",
       "      <td>11083.584148</td>\n",
       "      <td>0</td>\n",
       "      <td>0</td>\n",
       "    </tr>\n",
       "    <tr>\n",
       "      <td>9996</td>\n",
       "      <td>51.0</td>\n",
       "      <td>2.0</td>\n",
       "      <td>2200.0</td>\n",
       "      <td>3.0</td>\n",
       "      <td>0.0</td>\n",
       "      <td>1.0</td>\n",
       "      <td>0.0</td>\n",
       "      <td>0.0</td>\n",
       "      <td>0.0</td>\n",
       "      <td>0.0</td>\n",
       "      <td>...</td>\n",
       "      <td>1</td>\n",
       "      <td>1</td>\n",
       "      <td>0</td>\n",
       "      <td>0</td>\n",
       "      <td>0.0</td>\n",
       "      <td>0.0</td>\n",
       "      <td>0.0</td>\n",
       "      <td>16255.923418</td>\n",
       "      <td>1</td>\n",
       "      <td>0</td>\n",
       "    </tr>\n",
       "    <tr>\n",
       "      <td>9997</td>\n",
       "      <td>33.0</td>\n",
       "      <td>5.0</td>\n",
       "      <td>1100.0</td>\n",
       "      <td>1.0</td>\n",
       "      <td>0.0</td>\n",
       "      <td>0.0</td>\n",
       "      <td>0.0</td>\n",
       "      <td>0.0</td>\n",
       "      <td>0.0</td>\n",
       "      <td>0.0</td>\n",
       "      <td>...</td>\n",
       "      <td>0</td>\n",
       "      <td>0</td>\n",
       "      <td>0</td>\n",
       "      <td>1</td>\n",
       "      <td>0.0</td>\n",
       "      <td>0.0</td>\n",
       "      <td>0.0</td>\n",
       "      <td>2990.110011</td>\n",
       "      <td>0</td>\n",
       "      <td>1</td>\n",
       "    </tr>\n",
       "    <tr>\n",
       "      <td>9998</td>\n",
       "      <td>48.0</td>\n",
       "      <td>0.0</td>\n",
       "      <td>1750.0</td>\n",
       "      <td>2.0</td>\n",
       "      <td>0.0</td>\n",
       "      <td>0.0</td>\n",
       "      <td>0.0</td>\n",
       "      <td>0.0</td>\n",
       "      <td>0.0</td>\n",
       "      <td>0.0</td>\n",
       "      <td>...</td>\n",
       "      <td>0</td>\n",
       "      <td>0</td>\n",
       "      <td>0</td>\n",
       "      <td>0</td>\n",
       "      <td>0.0</td>\n",
       "      <td>0.0</td>\n",
       "      <td>0.0</td>\n",
       "      <td>4756.993200</td>\n",
       "      <td>0</td>\n",
       "      <td>0</td>\n",
       "    </tr>\n",
       "    <tr>\n",
       "      <td>9999</td>\n",
       "      <td>49.0</td>\n",
       "      <td>5.0</td>\n",
       "      <td>2000.0</td>\n",
       "      <td>2.0</td>\n",
       "      <td>1.0</td>\n",
       "      <td>0.0</td>\n",
       "      <td>0.0</td>\n",
       "      <td>0.0</td>\n",
       "      <td>0.0</td>\n",
       "      <td>0.0</td>\n",
       "      <td>...</td>\n",
       "      <td>1</td>\n",
       "      <td>0</td>\n",
       "      <td>0</td>\n",
       "      <td>0</td>\n",
       "      <td>2.0</td>\n",
       "      <td>5.0</td>\n",
       "      <td>10.0</td>\n",
       "      <td>5436.563657</td>\n",
       "      <td>0</td>\n",
       "      <td>0</td>\n",
       "    </tr>\n",
       "  </tbody>\n",
       "</table>\n",
       "<p>10000 rows × 21 columns</p>\n",
       "</div>"
      ],
      "text/plain": [
       "       age  years_of_experience  lesson_price  qualification  physics  \\\n",
       "0     46.0                  3.0        1050.0            1.0      0.0   \n",
       "1     43.0                  3.0        1850.0            2.0      0.0   \n",
       "2     52.0                  1.0        1550.0            1.0      1.0   \n",
       "3     57.0                  6.0        2900.0            3.0      1.0   \n",
       "4     44.0                  4.0        3150.0            3.0      1.0   \n",
       "...    ...                  ...           ...            ...      ...   \n",
       "9995  42.0                  0.0        1500.0            1.0      0.0   \n",
       "9996  51.0                  2.0        2200.0            3.0      0.0   \n",
       "9997  33.0                  5.0        1100.0            1.0      0.0   \n",
       "9998  48.0                  0.0        1750.0            2.0      0.0   \n",
       "9999  49.0                  5.0        2000.0            2.0      1.0   \n",
       "\n",
       "      chemistry  biology  english  geography  history  ...  is_expirienced  \\\n",
       "0           1.0      0.0      0.0        0.0      0.0  ...               1   \n",
       "1           0.0      0.0      0.0        0.0      0.0  ...               0   \n",
       "2           0.0      0.0      0.0        0.0      0.0  ...               1   \n",
       "3           0.0      1.0      0.0        0.0      0.0  ...               1   \n",
       "4           0.0      0.0      0.0        0.0      0.0  ...               1   \n",
       "...         ...      ...      ...        ...      ...  ...             ...   \n",
       "9995        0.0      0.0      0.0        0.0      0.0  ...               0   \n",
       "9996        1.0      0.0      0.0        0.0      0.0  ...               1   \n",
       "9997        0.0      0.0      0.0        0.0      0.0  ...               0   \n",
       "9998        0.0      0.0      0.0        0.0      0.0  ...               0   \n",
       "9999        0.0      0.0      0.0        0.0      0.0  ...               1   \n",
       "\n",
       "      highly_qualified  is_old  is_young  qualification_in_physics  \\\n",
       "0                    0       0         0                       0.0   \n",
       "1                    0       0         0                       0.0   \n",
       "2                    0       1         0                       1.0   \n",
       "3                    1       1         0                       3.0   \n",
       "4                    1       0         0                       3.0   \n",
       "...                ...     ...       ...                       ...   \n",
       "9995                 0       0         0                       0.0   \n",
       "9996                 1       0         0                       0.0   \n",
       "9997                 0       0         1                       0.0   \n",
       "9998                 0       0         0                       0.0   \n",
       "9999                 0       0         0                       2.0   \n",
       "\n",
       "      expirience_in_physics  qual_vs_experience_in_ph  qual_for_money  \\\n",
       "0                       0.0                       0.0     2854.195920   \n",
       "1                       0.0                       0.0    37158.243308   \n",
       "2                       1.0                       1.0     4213.336834   \n",
       "3                       6.0                      18.0     7883.017303   \n",
       "4                       4.0                      12.0     8562.587760   \n",
       "...                     ...                       ...             ...   \n",
       "9995                    0.0                       0.0    11083.584148   \n",
       "9996                    0.0                       0.0    16255.923418   \n",
       "9997                    0.0                       0.0     2990.110011   \n",
       "9998                    0.0                       0.0     4756.993200   \n",
       "9999                    5.0                      10.0     5436.563657   \n",
       "\n",
       "      is_expensive  is_chip  \n",
       "0                0        1  \n",
       "1                0        0  \n",
       "2                0        0  \n",
       "3                1        0  \n",
       "4                1        0  \n",
       "...            ...      ...  \n",
       "9995             0        0  \n",
       "9996             1        0  \n",
       "9997             0        1  \n",
       "9998             0        0  \n",
       "9999             0        0  \n",
       "\n",
       "[10000 rows x 21 columns]"
      ]
     },
     "execution_count": 508,
     "metadata": {},
     "output_type": "execute_result"
    }
   ],
   "source": [
    "train_features=feature_generation(test_data)\n",
    "train_features"
   ]
  },
  {
   "cell_type": "code",
   "execution_count": 509,
   "metadata": {},
   "outputs": [],
   "source": [
    "test_features=train_features.to_numpy()"
   ]
  },
  {
   "cell_type": "code",
   "execution_count": 510,
   "metadata": {},
   "outputs": [],
   "source": [
    "test_target_pred = model_GB.predict(test_features)"
   ]
  },
  {
   "cell_type": "code",
   "execution_count": 511,
   "metadata": {},
   "outputs": [],
   "source": [
    "submission = pd.DataFrame({\"Id\":[id for id in range (10000, 20000)], \"mean_exam_points\":np.rint(test_target_pred)})"
   ]
  },
  {
   "cell_type": "code",
   "execution_count": 512,
   "metadata": {},
   "outputs": [
    {
     "data": {
      "text/html": [
       "<div>\n",
       "<style scoped>\n",
       "    .dataframe tbody tr th:only-of-type {\n",
       "        vertical-align: middle;\n",
       "    }\n",
       "\n",
       "    .dataframe tbody tr th {\n",
       "        vertical-align: top;\n",
       "    }\n",
       "\n",
       "    .dataframe thead th {\n",
       "        text-align: right;\n",
       "    }\n",
       "</style>\n",
       "<table border=\"1\" class=\"dataframe\">\n",
       "  <thead>\n",
       "    <tr style=\"text-align: right;\">\n",
       "      <th></th>\n",
       "      <th>Id</th>\n",
       "      <th>mean_exam_points</th>\n",
       "    </tr>\n",
       "  </thead>\n",
       "  <tbody>\n",
       "    <tr>\n",
       "      <td>0</td>\n",
       "      <td>10000</td>\n",
       "      <td>54.0</td>\n",
       "    </tr>\n",
       "    <tr>\n",
       "      <td>1</td>\n",
       "      <td>10001</td>\n",
       "      <td>75.0</td>\n",
       "    </tr>\n",
       "    <tr>\n",
       "      <td>2</td>\n",
       "      <td>10002</td>\n",
       "      <td>47.0</td>\n",
       "    </tr>\n",
       "    <tr>\n",
       "      <td>3</td>\n",
       "      <td>10003</td>\n",
       "      <td>85.0</td>\n",
       "    </tr>\n",
       "    <tr>\n",
       "      <td>4</td>\n",
       "      <td>10004</td>\n",
       "      <td>86.0</td>\n",
       "    </tr>\n",
       "    <tr>\n",
       "      <td>...</td>\n",
       "      <td>...</td>\n",
       "      <td>...</td>\n",
       "    </tr>\n",
       "    <tr>\n",
       "      <td>9995</td>\n",
       "      <td>19995</td>\n",
       "      <td>55.0</td>\n",
       "    </tr>\n",
       "    <tr>\n",
       "      <td>9996</td>\n",
       "      <td>19996</td>\n",
       "      <td>71.0</td>\n",
       "    </tr>\n",
       "    <tr>\n",
       "      <td>9997</td>\n",
       "      <td>19997</td>\n",
       "      <td>55.0</td>\n",
       "    </tr>\n",
       "    <tr>\n",
       "      <td>9998</td>\n",
       "      <td>19998</td>\n",
       "      <td>59.0</td>\n",
       "    </tr>\n",
       "    <tr>\n",
       "      <td>9999</td>\n",
       "      <td>19999</td>\n",
       "      <td>56.0</td>\n",
       "    </tr>\n",
       "  </tbody>\n",
       "</table>\n",
       "<p>10000 rows × 2 columns</p>\n",
       "</div>"
      ],
      "text/plain": [
       "         Id  mean_exam_points\n",
       "0     10000              54.0\n",
       "1     10001              75.0\n",
       "2     10002              47.0\n",
       "3     10003              85.0\n",
       "4     10004              86.0\n",
       "...     ...               ...\n",
       "9995  19995              55.0\n",
       "9996  19996              71.0\n",
       "9997  19997              55.0\n",
       "9998  19998              59.0\n",
       "9999  19999              56.0\n",
       "\n",
       "[10000 rows x 2 columns]"
      ]
     },
     "execution_count": 512,
     "metadata": {},
     "output_type": "execute_result"
    }
   ],
   "source": [
    "submission"
   ]
  },
  {
   "cell_type": "code",
   "execution_count": 513,
   "metadata": {},
   "outputs": [],
   "source": [
    "submission.to_csv(result_data_link, index = False)"
   ]
  },
  {
   "cell_type": "markdown",
   "metadata": {},
   "source": [
    "**После загрузки на Kaggle - результат 0.76534**"
   ]
  },
  {
   "cell_type": "code",
   "execution_count": null,
   "metadata": {},
   "outputs": [],
   "source": []
  },
  {
   "cell_type": "code",
   "execution_count": null,
   "metadata": {},
   "outputs": [],
   "source": []
  },
  {
   "cell_type": "code",
   "execution_count": null,
   "metadata": {},
   "outputs": [],
   "source": []
  }
 ],
 "metadata": {
  "kernelspec": {
   "display_name": "Python 3",
   "language": "python",
   "name": "python3"
  },
  "language_info": {
   "codemirror_mode": {
    "name": "ipython",
    "version": 3
   },
   "file_extension": ".py",
   "mimetype": "text/x-python",
   "name": "python",
   "nbconvert_exporter": "python",
   "pygments_lexer": "ipython3",
   "version": "3.7.4"
  }
 },
 "nbformat": 4,
 "nbformat_minor": 2
}
